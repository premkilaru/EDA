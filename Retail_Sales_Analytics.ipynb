{
  "nbformat": 4,
  "nbformat_minor": 0,
  "metadata": {
    "colab": {
      "name": "Retail Sales Analytics.ipynb",
      "provenance": []
    },
    "kernelspec": {
      "name": "python3",
      "display_name": "Python 3"
    },
    "language_info": {
      "name": "python"
    }
  },
  "cells": [
    {
      "cell_type": "code",
      "metadata": {
        "id": "2tket1vi5xnw"
      },
      "source": [
        "import pandas as pd\n",
        "pd.set_option('display.max_columns', None)\n",
        "\n",
        "import numpy as np\n",
        "import matplotlib.pyplot as plt\n",
        "import matplotlib.colors as mcolors\n",
        "import seaborn as sns\n",
        "\n",
        "import missingno as msno"
      ],
      "execution_count": 1,
      "outputs": []
    },
    {
      "cell_type": "markdown",
      "source": [
        "Data Attributes\n",
        "\n",
        "InvoiceNo: Invoice number. Nominal, a 6-digit integral number uniquely assigned to each transaction. If this code starts with letter ‘c’, it indicates a cancellation.\n",
        "\n",
        "StockCode: Product (item) code. Nominal, a 5-digit integral number uniquely assigned to each distinct product.\n",
        "\n",
        "Description: Product (item) name. Nominal.\n",
        "\n",
        "Quantity: The quantities of each product (item) per transaction. Numeric.\n",
        "\n",
        "InvoiceDate: Invoice Date and time. Numeric, the day and time when each transaction was generated.\n",
        "\n",
        "UnitPrice: Unit price. Numeric, Product price per unit in sterling.\n",
        "CustomerID: Customer number. Nominal, a 5-digit integral number uniquely assigned to each customer.\n",
        "\n",
        "Country: Country name. Nominal, the name of the country where each customer resides."
      ],
      "metadata": {
        "id": "1Zzwmes1h6XC"
      }
    },
    {
      "cell_type": "code",
      "source": [
        "!wget https://archive.ics.uci.edu/ml/machine-learning-databases/00352/Online%20Retail.xlsx"
      ],
      "metadata": {
        "colab": {
          "base_uri": "https://localhost:8080/"
        },
        "id": "4lNEr5xSlkLt",
        "outputId": "c55fa0de-052d-43c9-8454-51349db56a5d"
      },
      "execution_count": 2,
      "outputs": [
        {
          "output_type": "stream",
          "name": "stdout",
          "text": [
            "--2022-03-03 14:07:57--  https://archive.ics.uci.edu/ml/machine-learning-databases/00352/Online%20Retail.xlsx\n",
            "Resolving archive.ics.uci.edu (archive.ics.uci.edu)... 128.195.10.252\n",
            "Connecting to archive.ics.uci.edu (archive.ics.uci.edu)|128.195.10.252|:443... connected.\n",
            "HTTP request sent, awaiting response... 200 OK\n",
            "Length: 23715344 (23M) [application/x-httpd-php]\n",
            "Saving to: ‘Online Retail.xlsx’\n",
            "\n",
            "Online Retail.xlsx  100%[===================>]  22.62M  10.7MB/s    in 2.1s    \n",
            "\n",
            "2022-03-03 14:07:59 (10.7 MB/s) - ‘Online Retail.xlsx’ saved [23715344/23715344]\n",
            "\n"
          ]
        }
      ]
    },
    {
      "cell_type": "markdown",
      "source": [
        "### Part I - Data Loading & Cleaning"
      ],
      "metadata": {
        "id": "7mWdIfJ-vD5-"
      }
    },
    {
      "cell_type": "code",
      "source": [
        "df = pd.read_excel('/content/Online Retail.xlsx')\n",
        "df.head()"
      ],
      "metadata": {
        "colab": {
          "base_uri": "https://localhost:8080/",
          "height": 206
        },
        "id": "dfVVjXZDMBGD",
        "outputId": "38a7e467-c0cc-414e-f873-4c056720ac59"
      },
      "execution_count": 3,
      "outputs": [
        {
          "output_type": "execute_result",
          "data": {
            "text/html": [
              "\n",
              "  <div id=\"df-16a850fe-1727-4dcb-97d4-ae527651200f\">\n",
              "    <div class=\"colab-df-container\">\n",
              "      <div>\n",
              "<style scoped>\n",
              "    .dataframe tbody tr th:only-of-type {\n",
              "        vertical-align: middle;\n",
              "    }\n",
              "\n",
              "    .dataframe tbody tr th {\n",
              "        vertical-align: top;\n",
              "    }\n",
              "\n",
              "    .dataframe thead th {\n",
              "        text-align: right;\n",
              "    }\n",
              "</style>\n",
              "<table border=\"1\" class=\"dataframe\">\n",
              "  <thead>\n",
              "    <tr style=\"text-align: right;\">\n",
              "      <th></th>\n",
              "      <th>InvoiceNo</th>\n",
              "      <th>StockCode</th>\n",
              "      <th>Description</th>\n",
              "      <th>Quantity</th>\n",
              "      <th>InvoiceDate</th>\n",
              "      <th>UnitPrice</th>\n",
              "      <th>CustomerID</th>\n",
              "      <th>Country</th>\n",
              "    </tr>\n",
              "  </thead>\n",
              "  <tbody>\n",
              "    <tr>\n",
              "      <th>0</th>\n",
              "      <td>536365</td>\n",
              "      <td>85123A</td>\n",
              "      <td>WHITE HANGING HEART T-LIGHT HOLDER</td>\n",
              "      <td>6</td>\n",
              "      <td>2010-12-01 08:26:00</td>\n",
              "      <td>2.55</td>\n",
              "      <td>17850.0</td>\n",
              "      <td>United Kingdom</td>\n",
              "    </tr>\n",
              "    <tr>\n",
              "      <th>1</th>\n",
              "      <td>536365</td>\n",
              "      <td>71053</td>\n",
              "      <td>WHITE METAL LANTERN</td>\n",
              "      <td>6</td>\n",
              "      <td>2010-12-01 08:26:00</td>\n",
              "      <td>3.39</td>\n",
              "      <td>17850.0</td>\n",
              "      <td>United Kingdom</td>\n",
              "    </tr>\n",
              "    <tr>\n",
              "      <th>2</th>\n",
              "      <td>536365</td>\n",
              "      <td>84406B</td>\n",
              "      <td>CREAM CUPID HEARTS COAT HANGER</td>\n",
              "      <td>8</td>\n",
              "      <td>2010-12-01 08:26:00</td>\n",
              "      <td>2.75</td>\n",
              "      <td>17850.0</td>\n",
              "      <td>United Kingdom</td>\n",
              "    </tr>\n",
              "    <tr>\n",
              "      <th>3</th>\n",
              "      <td>536365</td>\n",
              "      <td>84029G</td>\n",
              "      <td>KNITTED UNION FLAG HOT WATER BOTTLE</td>\n",
              "      <td>6</td>\n",
              "      <td>2010-12-01 08:26:00</td>\n",
              "      <td>3.39</td>\n",
              "      <td>17850.0</td>\n",
              "      <td>United Kingdom</td>\n",
              "    </tr>\n",
              "    <tr>\n",
              "      <th>4</th>\n",
              "      <td>536365</td>\n",
              "      <td>84029E</td>\n",
              "      <td>RED WOOLLY HOTTIE WHITE HEART.</td>\n",
              "      <td>6</td>\n",
              "      <td>2010-12-01 08:26:00</td>\n",
              "      <td>3.39</td>\n",
              "      <td>17850.0</td>\n",
              "      <td>United Kingdom</td>\n",
              "    </tr>\n",
              "  </tbody>\n",
              "</table>\n",
              "</div>\n",
              "      <button class=\"colab-df-convert\" onclick=\"convertToInteractive('df-16a850fe-1727-4dcb-97d4-ae527651200f')\"\n",
              "              title=\"Convert this dataframe to an interactive table.\"\n",
              "              style=\"display:none;\">\n",
              "        \n",
              "  <svg xmlns=\"http://www.w3.org/2000/svg\" height=\"24px\"viewBox=\"0 0 24 24\"\n",
              "       width=\"24px\">\n",
              "    <path d=\"M0 0h24v24H0V0z\" fill=\"none\"/>\n",
              "    <path d=\"M18.56 5.44l.94 2.06.94-2.06 2.06-.94-2.06-.94-.94-2.06-.94 2.06-2.06.94zm-11 1L8.5 8.5l.94-2.06 2.06-.94-2.06-.94L8.5 2.5l-.94 2.06-2.06.94zm10 10l.94 2.06.94-2.06 2.06-.94-2.06-.94-.94-2.06-.94 2.06-2.06.94z\"/><path d=\"M17.41 7.96l-1.37-1.37c-.4-.4-.92-.59-1.43-.59-.52 0-1.04.2-1.43.59L10.3 9.45l-7.72 7.72c-.78.78-.78 2.05 0 2.83L4 21.41c.39.39.9.59 1.41.59.51 0 1.02-.2 1.41-.59l7.78-7.78 2.81-2.81c.8-.78.8-2.07 0-2.86zM5.41 20L4 18.59l7.72-7.72 1.47 1.35L5.41 20z\"/>\n",
              "  </svg>\n",
              "      </button>\n",
              "      \n",
              "  <style>\n",
              "    .colab-df-container {\n",
              "      display:flex;\n",
              "      flex-wrap:wrap;\n",
              "      gap: 12px;\n",
              "    }\n",
              "\n",
              "    .colab-df-convert {\n",
              "      background-color: #E8F0FE;\n",
              "      border: none;\n",
              "      border-radius: 50%;\n",
              "      cursor: pointer;\n",
              "      display: none;\n",
              "      fill: #1967D2;\n",
              "      height: 32px;\n",
              "      padding: 0 0 0 0;\n",
              "      width: 32px;\n",
              "    }\n",
              "\n",
              "    .colab-df-convert:hover {\n",
              "      background-color: #E2EBFA;\n",
              "      box-shadow: 0px 1px 2px rgba(60, 64, 67, 0.3), 0px 1px 3px 1px rgba(60, 64, 67, 0.15);\n",
              "      fill: #174EA6;\n",
              "    }\n",
              "\n",
              "    [theme=dark] .colab-df-convert {\n",
              "      background-color: #3B4455;\n",
              "      fill: #D2E3FC;\n",
              "    }\n",
              "\n",
              "    [theme=dark] .colab-df-convert:hover {\n",
              "      background-color: #434B5C;\n",
              "      box-shadow: 0px 1px 3px 1px rgba(0, 0, 0, 0.15);\n",
              "      filter: drop-shadow(0px 1px 2px rgba(0, 0, 0, 0.3));\n",
              "      fill: #FFFFFF;\n",
              "    }\n",
              "  </style>\n",
              "\n",
              "      <script>\n",
              "        const buttonEl =\n",
              "          document.querySelector('#df-16a850fe-1727-4dcb-97d4-ae527651200f button.colab-df-convert');\n",
              "        buttonEl.style.display =\n",
              "          google.colab.kernel.accessAllowed ? 'block' : 'none';\n",
              "\n",
              "        async function convertToInteractive(key) {\n",
              "          const element = document.querySelector('#df-16a850fe-1727-4dcb-97d4-ae527651200f');\n",
              "          const dataTable =\n",
              "            await google.colab.kernel.invokeFunction('convertToInteractive',\n",
              "                                                     [key], {});\n",
              "          if (!dataTable) return;\n",
              "\n",
              "          const docLinkHtml = 'Like what you see? Visit the ' +\n",
              "            '<a target=\"_blank\" href=https://colab.research.google.com/notebooks/data_table.ipynb>data table notebook</a>'\n",
              "            + ' to learn more about interactive tables.';\n",
              "          element.innerHTML = '';\n",
              "          dataTable['output_type'] = 'display_data';\n",
              "          await google.colab.output.renderOutput(dataTable, element);\n",
              "          const docLink = document.createElement('div');\n",
              "          docLink.innerHTML = docLinkHtml;\n",
              "          element.appendChild(docLink);\n",
              "        }\n",
              "      </script>\n",
              "    </div>\n",
              "  </div>\n",
              "  "
            ],
            "text/plain": [
              "  InvoiceNo StockCode                          Description  Quantity  \\\n",
              "0    536365    85123A   WHITE HANGING HEART T-LIGHT HOLDER         6   \n",
              "1    536365     71053                  WHITE METAL LANTERN         6   \n",
              "2    536365    84406B       CREAM CUPID HEARTS COAT HANGER         8   \n",
              "3    536365    84029G  KNITTED UNION FLAG HOT WATER BOTTLE         6   \n",
              "4    536365    84029E       RED WOOLLY HOTTIE WHITE HEART.         6   \n",
              "\n",
              "          InvoiceDate  UnitPrice  CustomerID         Country  \n",
              "0 2010-12-01 08:26:00       2.55     17850.0  United Kingdom  \n",
              "1 2010-12-01 08:26:00       3.39     17850.0  United Kingdom  \n",
              "2 2010-12-01 08:26:00       2.75     17850.0  United Kingdom  \n",
              "3 2010-12-01 08:26:00       3.39     17850.0  United Kingdom  \n",
              "4 2010-12-01 08:26:00       3.39     17850.0  United Kingdom  "
            ]
          },
          "metadata": {},
          "execution_count": 3
        }
      ]
    },
    {
      "cell_type": "code",
      "source": [
        "df.info()"
      ],
      "metadata": {
        "colab": {
          "base_uri": "https://localhost:8080/"
        },
        "id": "ToEUDYryIfkd",
        "outputId": "b88a59ba-011a-4b77-cb00-9a22b7825bca"
      },
      "execution_count": 4,
      "outputs": [
        {
          "output_type": "stream",
          "name": "stdout",
          "text": [
            "<class 'pandas.core.frame.DataFrame'>\n",
            "RangeIndex: 541909 entries, 0 to 541908\n",
            "Data columns (total 8 columns):\n",
            " #   Column       Non-Null Count   Dtype         \n",
            "---  ------       --------------   -----         \n",
            " 0   InvoiceNo    541909 non-null  object        \n",
            " 1   StockCode    541909 non-null  object        \n",
            " 2   Description  540455 non-null  object        \n",
            " 3   Quantity     541909 non-null  int64         \n",
            " 4   InvoiceDate  541909 non-null  datetime64[ns]\n",
            " 5   UnitPrice    541909 non-null  float64       \n",
            " 6   CustomerID   406829 non-null  float64       \n",
            " 7   Country      541909 non-null  object        \n",
            "dtypes: datetime64[ns](1), float64(2), int64(1), object(4)\n",
            "memory usage: 33.1+ MB\n"
          ]
        }
      ]
    },
    {
      "cell_type": "markdown",
      "source": [
        "There are total 541,909 records, some customer id's are missing along with few stock descriptions. "
      ],
      "metadata": {
        "id": "fB2016gtpK8E"
      }
    },
    {
      "cell_type": "code",
      "source": [
        "# Convert data types\n",
        "df = df.convert_dtypes()\n",
        "df.info()"
      ],
      "metadata": {
        "colab": {
          "base_uri": "https://localhost:8080/"
        },
        "id": "YPsSvSIFyn1m",
        "outputId": "83afdec8-7452-4a7b-d841-47028e1d507c"
      },
      "execution_count": 5,
      "outputs": [
        {
          "output_type": "stream",
          "name": "stdout",
          "text": [
            "<class 'pandas.core.frame.DataFrame'>\n",
            "RangeIndex: 541909 entries, 0 to 541908\n",
            "Data columns (total 8 columns):\n",
            " #   Column       Non-Null Count   Dtype         \n",
            "---  ------       --------------   -----         \n",
            " 0   InvoiceNo    541909 non-null  object        \n",
            " 1   StockCode    541909 non-null  object        \n",
            " 2   Description  540455 non-null  object        \n",
            " 3   Quantity     541909 non-null  Int64         \n",
            " 4   InvoiceDate  541909 non-null  datetime64[ns]\n",
            " 5   UnitPrice    541909 non-null  Float64       \n",
            " 6   CustomerID   406829 non-null  Int64         \n",
            " 7   Country      541909 non-null  string        \n",
            "dtypes: Float64(1), Int64(2), datetime64[ns](1), object(3), string(1)\n",
            "memory usage: 34.6+ MB\n"
          ]
        }
      ]
    },
    {
      "cell_type": "markdown",
      "source": [
        "Visualizing missing info"
      ],
      "metadata": {
        "id": "_lXBnSqMpgi7"
      }
    },
    {
      "cell_type": "code",
      "source": [
        "import missingno as msno\n",
        "\n",
        "msno.matrix(df)\n",
        "plt.show()"
      ],
      "metadata": {
        "colab": {
          "base_uri": "https://localhost:8080/",
          "height": 502
        },
        "id": "z9K_I93QpWKA",
        "outputId": "144f2e24-7583-496f-dfb8-691bba7ecf9c"
      },
      "execution_count": 6,
      "outputs": [
        {
          "output_type": "display_data",
          "data": {
            "image/png": "[encoded data removed]",
            "text/plain": [
              "<Figure size 1800x720 with 2 Axes>"
            ]
          },
          "metadata": {
            "needs_background": "light"
          }
        }
      ]
    },
    {
      "cell_type": "markdown",
      "source": [
        "There are about 500 product descriptions missing and many customer ids are missing from the data. Before we go and anlyze missing customer info, let's calculate the total sales by multiplying quantity with unit price. "
      ],
      "metadata": {
        "id": "bVamWzu4pmvl"
      }
    },
    {
      "cell_type": "code",
      "source": [
        "# Total sales\n",
        "df = df.assign(\n",
        "    sales = lambda x: x.Quantity * x.UnitPrice\n",
        ")\n",
        "\n",
        "print(\"Total sales: {:.2f}\".format(df.sales.sum()))"
      ],
      "metadata": {
        "colab": {
          "base_uri": "https://localhost:8080/"
        },
        "id": "15PFkIWQLC6o",
        "outputId": "83e56630-bde7-491b-e774-496760d3c040"
      },
      "execution_count": 7,
      "outputs": [
        {
          "output_type": "stream",
          "name": "stdout",
          "text": [
            "Total sales: 9747747.93\n"
          ]
        }
      ]
    },
    {
      "cell_type": "code",
      "source": [
        "# Identify duplicate entries if any\n",
        "df.duplicated().sum()"
      ],
      "metadata": {
        "colab": {
          "base_uri": "https://localhost:8080/"
        },
        "id": "PulqA-THkMQy",
        "outputId": "c8ec9ac1-0cfa-47d6-be62-73f5f1eabf71"
      },
      "execution_count": 8,
      "outputs": [
        {
          "output_type": "execute_result",
          "data": {
            "text/plain": [
              "5268"
            ]
          },
          "metadata": {},
          "execution_count": 8
        }
      ]
    },
    {
      "cell_type": "markdown",
      "source": [
        "There are 5268 duplicate transactions in the data. Assuming these are errors from data extraction process, however, this typically need to be validated with source system to verify if they are real transactions or duplicated rows due to data extraction and loding processes. \n",
        "\n",
        "Now, we will check the inflated transaction amount. "
      ],
      "metadata": {
        "id": "mjW4mUZWllOh"
      }
    },
    {
      "cell_type": "code",
      "source": [
        "df.loc[df.duplicated()].sales.sum()"
      ],
      "metadata": {
        "colab": {
          "base_uri": "https://localhost:8080/"
        },
        "id": "s8Qg1vO5kdY0",
        "outputId": "b2421aa7-9a88-4f75-a66d-56e9a28489a7"
      },
      "execution_count": 9,
      "outputs": [
        {
          "output_type": "execute_result",
          "data": {
            "text/plain": [
              "21740.98"
            ]
          },
          "metadata": {},
          "execution_count": 9
        }
      ]
    },
    {
      "cell_type": "markdown",
      "source": [
        "Revenue is inflated by about 22K. Here we can delete based on assumption that they are duplicates resulting from data generation/extraction processes."
      ],
      "metadata": {
        "id": "OwmoXS-KmTWj"
      }
    },
    {
      "cell_type": "code",
      "source": [
        "# we use ~ symbol to remove the duplicated rows from the dataset.\n",
        "df = df.loc[~df.duplicated()]\n",
        "df.sales.sum()"
      ],
      "metadata": {
        "colab": {
          "base_uri": "https://localhost:8080/"
        },
        "id": "4g4P5NwUmr1y",
        "outputId": "599f7f83-f169-44f6-d01d-b030ff3d4cee"
      },
      "execution_count": 10,
      "outputs": [
        {
          "output_type": "execute_result",
          "data": {
            "text/plain": [
              "9726006.953999998"
            ]
          },
          "metadata": {},
          "execution_count": 10
        }
      ]
    },
    {
      "cell_type": "code",
      "source": [
        "# Verify total Sales from unidentified/missing customer ids i.e guests\n",
        "sales_guests = df.loc[df.CustomerID.isnull()].sales.sum()\n",
        "\n",
        "print(\"Sales from guest customers: {:.2f}\".format(sales_guests))"
      ],
      "metadata": {
        "colab": {
          "base_uri": "https://localhost:8080/"
        },
        "id": "DjCZAiIrqxSq",
        "outputId": "7d4890dc-14f2-4ad9-be85-976f589e2f4a"
      },
      "execution_count": 11,
      "outputs": [
        {
          "output_type": "stream",
          "name": "stdout",
          "text": [
            "Sales from guest customers: 1447487.53\n"
          ]
        }
      ]
    },
    {
      "cell_type": "code",
      "source": [
        "# Calculate total sales of identified customers\n",
        "sales_registered_clients = df.loc[df.CustomerID.notnull()].sales.sum()\n",
        "print(\"Sales from registered clients: {:.2f}\".format(sales_registered_clients))"
      ],
      "metadata": {
        "colab": {
          "base_uri": "https://localhost:8080/"
        },
        "id": "WdAn1y0Vp9wr",
        "outputId": "269dc5d8-0600-400a-955f-ffc3e733a4fd"
      },
      "execution_count": 12,
      "outputs": [
        {
          "output_type": "stream",
          "name": "stdout",
          "text": [
            "Sales from registered clients: 8278519.42\n"
          ]
        }
      ]
    },
    {
      "cell_type": "code",
      "source": [
        "# number of records with zero sales\n",
        "zero_sales = df.loc[df.sales.eq(0)]\n",
        "zero_sales.count()"
      ],
      "metadata": {
        "colab": {
          "base_uri": "https://localhost:8080/"
        },
        "id": "QzhC53Yjrx8W",
        "outputId": "47c2cdc0-0ee4-438b-95ec-53faa7897b1a"
      },
      "execution_count": 13,
      "outputs": [
        {
          "output_type": "execute_result",
          "data": {
            "text/plain": [
              "InvoiceNo      2510\n",
              "StockCode      2510\n",
              "Description    1056\n",
              "Quantity       2510\n",
              "InvoiceDate    2510\n",
              "UnitPrice      2510\n",
              "CustomerID       40\n",
              "Country        2510\n",
              "sales          2510\n",
              "dtype: int64"
            ]
          },
          "metadata": {},
          "execution_count": 13
        }
      ]
    },
    {
      "cell_type": "markdown",
      "source": [
        "There are 2510 records with no sales, only 40 of them are registered customers. We can remove these transactions as they don't contribute to the further analysis."
      ],
      "metadata": {
        "id": "Hro_WB7kszF4"
      }
    },
    {
      "cell_type": "code",
      "source": [
        "# filtering no sale records\n",
        "df = df.loc[df.sales.ne(0)] # ne = not equal\n",
        "print(df.shape)\n",
        "\n",
        "# cross validating total sales. \n",
        "print(\"Total sales: {:.2f}\".format(df.sales.sum()))"
      ],
      "metadata": {
        "colab": {
          "base_uri": "https://localhost:8080/"
        },
        "id": "exDzJqAhtA4g",
        "outputId": "a0e58a18-a517-4cd9-d985-e18927b69af3"
      },
      "execution_count": 14,
      "outputs": [
        {
          "output_type": "stream",
          "name": "stdout",
          "text": [
            "(534131, 9)\n",
            "Total sales: 9726006.95\n"
          ]
        }
      ]
    },
    {
      "cell_type": "markdown",
      "source": [
        "We have 534,131  records left, and total sales remains the same (9,726,006.95)"
      ],
      "metadata": {
        "id": "hp8DDmkgtTWK"
      }
    },
    {
      "cell_type": "markdown",
      "source": [
        "Now we would look at descriptive statistics"
      ],
      "metadata": {
        "id": "QEjOQJG3vbnv"
      }
    },
    {
      "cell_type": "code",
      "source": [
        "df.reset_index(drop=True, inplace=True)\n",
        "df.CustomerID = df.CustomerID.astype(str)\n",
        "df.describe()"
      ],
      "metadata": {
        "colab": {
          "base_uri": "https://localhost:8080/",
          "height": 300
        },
        "id": "-GHRt4QbVWNB",
        "outputId": "80a1db2d-111a-4b7d-ff98-5a9b252d1270"
      },
      "execution_count": 15,
      "outputs": [
        {
          "output_type": "execute_result",
          "data": {
            "text/html": [
              "\n",
              "  <div id=\"df-7179fb43-8517-4a04-8fb9-3b0d42686d88\">\n",
              "    <div class=\"colab-df-container\">\n",
              "      <div>\n",
              "<style scoped>\n",
              "    .dataframe tbody tr th:only-of-type {\n",
              "        vertical-align: middle;\n",
              "    }\n",
              "\n",
              "    .dataframe tbody tr th {\n",
              "        vertical-align: top;\n",
              "    }\n",
              "\n",
              "    .dataframe thead th {\n",
              "        text-align: right;\n",
              "    }\n",
              "</style>\n",
              "<table border=\"1\" class=\"dataframe\">\n",
              "  <thead>\n",
              "    <tr style=\"text-align: right;\">\n",
              "      <th></th>\n",
              "      <th>Quantity</th>\n",
              "      <th>UnitPrice</th>\n",
              "      <th>sales</th>\n",
              "    </tr>\n",
              "  </thead>\n",
              "  <tbody>\n",
              "    <tr>\n",
              "      <th>count</th>\n",
              "      <td>534131.000000</td>\n",
              "      <td>534131.000000</td>\n",
              "      <td>534131.000000</td>\n",
              "    </tr>\n",
              "    <tr>\n",
              "      <th>mean</th>\n",
              "      <td>9.916784</td>\n",
              "      <td>4.654426</td>\n",
              "      <td>18.209029</td>\n",
              "    </tr>\n",
              "    <tr>\n",
              "      <th>std</th>\n",
              "      <td>216.451709</td>\n",
              "      <td>97.460790</td>\n",
              "      <td>381.547578</td>\n",
              "    </tr>\n",
              "    <tr>\n",
              "      <th>min</th>\n",
              "      <td>-80995.000000</td>\n",
              "      <td>-11062.060000</td>\n",
              "      <td>-168469.600000</td>\n",
              "    </tr>\n",
              "    <tr>\n",
              "      <th>25%</th>\n",
              "      <td>1.000000</td>\n",
              "      <td>1.250000</td>\n",
              "      <td>3.750000</td>\n",
              "    </tr>\n",
              "    <tr>\n",
              "      <th>50%</th>\n",
              "      <td>3.000000</td>\n",
              "      <td>2.100000</td>\n",
              "      <td>9.900000</td>\n",
              "    </tr>\n",
              "    <tr>\n",
              "      <th>75%</th>\n",
              "      <td>10.000000</td>\n",
              "      <td>4.130000</td>\n",
              "      <td>17.570000</td>\n",
              "    </tr>\n",
              "    <tr>\n",
              "      <th>max</th>\n",
              "      <td>80995.000000</td>\n",
              "      <td>38970.000000</td>\n",
              "      <td>168469.600000</td>\n",
              "    </tr>\n",
              "  </tbody>\n",
              "</table>\n",
              "</div>\n",
              "      <button class=\"colab-df-convert\" onclick=\"convertToInteractive('df-7179fb43-8517-4a04-8fb9-3b0d42686d88')\"\n",
              "              title=\"Convert this dataframe to an interactive table.\"\n",
              "              style=\"display:none;\">\n",
              "        \n",
              "  <svg xmlns=\"http://www.w3.org/2000/svg\" height=\"24px\"viewBox=\"0 0 24 24\"\n",
              "       width=\"24px\">\n",
              "    <path d=\"M0 0h24v24H0V0z\" fill=\"none\"/>\n",
              "    <path d=\"M18.56 5.44l.94 2.06.94-2.06 2.06-.94-2.06-.94-.94-2.06-.94 2.06-2.06.94zm-11 1L8.5 8.5l.94-2.06 2.06-.94-2.06-.94L8.5 2.5l-.94 2.06-2.06.94zm10 10l.94 2.06.94-2.06 2.06-.94-2.06-.94-.94-2.06-.94 2.06-2.06.94z\"/><path d=\"M17.41 7.96l-1.37-1.37c-.4-.4-.92-.59-1.43-.59-.52 0-1.04.2-1.43.59L10.3 9.45l-7.72 7.72c-.78.78-.78 2.05 0 2.83L4 21.41c.39.39.9.59 1.41.59.51 0 1.02-.2 1.41-.59l7.78-7.78 2.81-2.81c.8-.78.8-2.07 0-2.86zM5.41 20L4 18.59l7.72-7.72 1.47 1.35L5.41 20z\"/>\n",
              "  </svg>\n",
              "      </button>\n",
              "      \n",
              "  <style>\n",
              "    .colab-df-container {\n",
              "      display:flex;\n",
              "      flex-wrap:wrap;\n",
              "      gap: 12px;\n",
              "    }\n",
              "\n",
              "    .colab-df-convert {\n",
              "      background-color: #E8F0FE;\n",
              "      border: none;\n",
              "      border-radius: 50%;\n",
              "      cursor: pointer;\n",
              "      display: none;\n",
              "      fill: #1967D2;\n",
              "      height: 32px;\n",
              "      padding: 0 0 0 0;\n",
              "      width: 32px;\n",
              "    }\n",
              "\n",
              "    .colab-df-convert:hover {\n",
              "      background-color: #E2EBFA;\n",
              "      box-shadow: 0px 1px 2px rgba(60, 64, 67, 0.3), 0px 1px 3px 1px rgba(60, 64, 67, 0.15);\n",
              "      fill: #174EA6;\n",
              "    }\n",
              "\n",
              "    [theme=dark] .colab-df-convert {\n",
              "      background-color: #3B4455;\n",
              "      fill: #D2E3FC;\n",
              "    }\n",
              "\n",
              "    [theme=dark] .colab-df-convert:hover {\n",
              "      background-color: #434B5C;\n",
              "      box-shadow: 0px 1px 3px 1px rgba(0, 0, 0, 0.15);\n",
              "      filter: drop-shadow(0px 1px 2px rgba(0, 0, 0, 0.3));\n",
              "      fill: #FFFFFF;\n",
              "    }\n",
              "  </style>\n",
              "\n",
              "      <script>\n",
              "        const buttonEl =\n",
              "          document.querySelector('#df-7179fb43-8517-4a04-8fb9-3b0d42686d88 button.colab-df-convert');\n",
              "        buttonEl.style.display =\n",
              "          google.colab.kernel.accessAllowed ? 'block' : 'none';\n",
              "\n",
              "        async function convertToInteractive(key) {\n",
              "          const element = document.querySelector('#df-7179fb43-8517-4a04-8fb9-3b0d42686d88');\n",
              "          const dataTable =\n",
              "            await google.colab.kernel.invokeFunction('convertToInteractive',\n",
              "                                                     [key], {});\n",
              "          if (!dataTable) return;\n",
              "\n",
              "          const docLinkHtml = 'Like what you see? Visit the ' +\n",
              "            '<a target=\"_blank\" href=https://colab.research.google.com/notebooks/data_table.ipynb>data table notebook</a>'\n",
              "            + ' to learn more about interactive tables.';\n",
              "          element.innerHTML = '';\n",
              "          dataTable['output_type'] = 'display_data';\n",
              "          await google.colab.output.renderOutput(dataTable, element);\n",
              "          const docLink = document.createElement('div');\n",
              "          docLink.innerHTML = docLinkHtml;\n",
              "          element.appendChild(docLink);\n",
              "        }\n",
              "      </script>\n",
              "    </div>\n",
              "  </div>\n",
              "  "
            ],
            "text/plain": [
              "            Quantity      UnitPrice          sales\n",
              "count  534131.000000  534131.000000  534131.000000\n",
              "mean        9.916784       4.654426      18.209029\n",
              "std       216.451709      97.460790     381.547578\n",
              "min    -80995.000000  -11062.060000 -168469.600000\n",
              "25%         1.000000       1.250000       3.750000\n",
              "50%         3.000000       2.100000       9.900000\n",
              "75%        10.000000       4.130000      17.570000\n",
              "max     80995.000000   38970.000000  168469.600000"
            ]
          },
          "metadata": {},
          "execution_count": 15
        }
      ]
    },
    {
      "cell_type": "markdown",
      "source": [
        "We can see that maximum and minimum sales trasactions can be seen as  return of merchandise from a single customer. Removing these transactions would help remove the skew in summary statistics."
      ],
      "metadata": {
        "id": "rWkcvMwixvC9"
      }
    },
    {
      "cell_type": "code",
      "source": [
        "netzero_sales = df[df.groupby(['CustomerID','StockCode'])['sales'].transform('sum').eq(0)]\n",
        "\n",
        "netzero_sales.sort_values(by=['StockCode','CustomerID'])"
      ],
      "metadata": {
        "colab": {
          "base_uri": "https://localhost:8080/",
          "height": 423
        },
        "id": "HBkjVoEiCUB6",
        "outputId": "d6d996b5-2033-4620-b167-0e40ae5a3c9a"
      },
      "execution_count": 16,
      "outputs": [
        {
          "output_type": "execute_result",
          "data": {
            "text/html": [
              "\n",
              "  <div id=\"df-3acf3780-6935-4081-999f-5bf09809840b\">\n",
              "    <div class=\"colab-df-container\">\n",
              "      <div>\n",
              "<style scoped>\n",
              "    .dataframe tbody tr th:only-of-type {\n",
              "        vertical-align: middle;\n",
              "    }\n",
              "\n",
              "    .dataframe tbody tr th {\n",
              "        vertical-align: top;\n",
              "    }\n",
              "\n",
              "    .dataframe thead th {\n",
              "        text-align: right;\n",
              "    }\n",
              "</style>\n",
              "<table border=\"1\" class=\"dataframe\">\n",
              "  <thead>\n",
              "    <tr style=\"text-align: right;\">\n",
              "      <th></th>\n",
              "      <th>InvoiceNo</th>\n",
              "      <th>StockCode</th>\n",
              "      <th>Description</th>\n",
              "      <th>Quantity</th>\n",
              "      <th>InvoiceDate</th>\n",
              "      <th>UnitPrice</th>\n",
              "      <th>CustomerID</th>\n",
              "      <th>Country</th>\n",
              "      <th>sales</th>\n",
              "    </tr>\n",
              "  </thead>\n",
              "  <tbody>\n",
              "    <tr>\n",
              "      <th>243235</th>\n",
              "      <td>558714</td>\n",
              "      <td>10133</td>\n",
              "      <td>COLOURING PENCILS BROWN TUBE</td>\n",
              "      <td>10</td>\n",
              "      <td>2011-07-01 13:17:00</td>\n",
              "      <td>0.42</td>\n",
              "      <td>17888</td>\n",
              "      <td>United Kingdom</td>\n",
              "      <td>4.2</td>\n",
              "    </tr>\n",
              "    <tr>\n",
              "      <th>243254</th>\n",
              "      <td>C558716</td>\n",
              "      <td>10133</td>\n",
              "      <td>COLOURING PENCILS BROWN TUBE</td>\n",
              "      <td>-10</td>\n",
              "      <td>2011-07-01 13:22:00</td>\n",
              "      <td>0.42</td>\n",
              "      <td>17888</td>\n",
              "      <td>United Kingdom</td>\n",
              "      <td>-4.2</td>\n",
              "    </tr>\n",
              "    <tr>\n",
              "      <th>366373</th>\n",
              "      <td>569214</td>\n",
              "      <td>15034</td>\n",
              "      <td>PAPER POCKET TRAVELING FAN</td>\n",
              "      <td>1200</td>\n",
              "      <td>2011-10-02 12:22:00</td>\n",
              "      <td>0.07</td>\n",
              "      <td>14533</td>\n",
              "      <td>United Kingdom</td>\n",
              "      <td>84.0</td>\n",
              "    </tr>\n",
              "    <tr>\n",
              "      <th>372531</th>\n",
              "      <td>C569552</td>\n",
              "      <td>15034</td>\n",
              "      <td>PAPER POCKET TRAVELING FAN</td>\n",
              "      <td>-1200</td>\n",
              "      <td>2011-10-04 17:44:00</td>\n",
              "      <td>0.07</td>\n",
              "      <td>14533</td>\n",
              "      <td>United Kingdom</td>\n",
              "      <td>-84.0</td>\n",
              "    </tr>\n",
              "    <tr>\n",
              "      <th>240977</th>\n",
              "      <td>558533</td>\n",
              "      <td>15036</td>\n",
              "      <td>ASSORTED COLOURS SILK FAN</td>\n",
              "      <td>24</td>\n",
              "      <td>2011-06-30 11:49:00</td>\n",
              "      <td>0.83</td>\n",
              "      <td>16717</td>\n",
              "      <td>United Kingdom</td>\n",
              "      <td>19.92</td>\n",
              "    </tr>\n",
              "    <tr>\n",
              "      <th>...</th>\n",
              "      <td>...</td>\n",
              "      <td>...</td>\n",
              "      <td>...</td>\n",
              "      <td>...</td>\n",
              "      <td>...</td>\n",
              "      <td>...</td>\n",
              "      <td>...</td>\n",
              "      <td>...</td>\n",
              "      <td>...</td>\n",
              "    </tr>\n",
              "    <tr>\n",
              "      <th>191394</th>\n",
              "      <td>C553560</td>\n",
              "      <td>M</td>\n",
              "      <td>Manual</td>\n",
              "      <td>-1</td>\n",
              "      <td>2011-05-17 17:14:00</td>\n",
              "      <td>293.0</td>\n",
              "      <td>14931</td>\n",
              "      <td>Channel Islands</td>\n",
              "      <td>-293.0</td>\n",
              "    </tr>\n",
              "    <tr>\n",
              "      <th>179781</th>\n",
              "      <td>552549</td>\n",
              "      <td>M</td>\n",
              "      <td>Manual</td>\n",
              "      <td>1</td>\n",
              "      <td>2011-05-10 10:39:00</td>\n",
              "      <td>334.71</td>\n",
              "      <td>15674</td>\n",
              "      <td>United Kingdom</td>\n",
              "      <td>334.71</td>\n",
              "    </tr>\n",
              "    <tr>\n",
              "      <th>179818</th>\n",
              "      <td>C552553</td>\n",
              "      <td>M</td>\n",
              "      <td>Manual</td>\n",
              "      <td>-1</td>\n",
              "      <td>2011-05-10 10:51:00</td>\n",
              "      <td>334.71</td>\n",
              "      <td>15674</td>\n",
              "      <td>United Kingdom</td>\n",
              "      <td>-334.71</td>\n",
              "    </tr>\n",
              "    <tr>\n",
              "      <th>170694</th>\n",
              "      <td>C551685</td>\n",
              "      <td>POST</td>\n",
              "      <td>POSTAGE</td>\n",
              "      <td>-1</td>\n",
              "      <td>2011-05-03 12:51:00</td>\n",
              "      <td>8142.75</td>\n",
              "      <td>16029</td>\n",
              "      <td>United Kingdom</td>\n",
              "      <td>-8142.75</td>\n",
              "    </tr>\n",
              "    <tr>\n",
              "      <th>170792</th>\n",
              "      <td>551697</td>\n",
              "      <td>POST</td>\n",
              "      <td>POSTAGE</td>\n",
              "      <td>1</td>\n",
              "      <td>2011-05-03 13:46:00</td>\n",
              "      <td>8142.75</td>\n",
              "      <td>16029</td>\n",
              "      <td>United Kingdom</td>\n",
              "      <td>8142.75</td>\n",
              "    </tr>\n",
              "  </tbody>\n",
              "</table>\n",
              "<p>3044 rows × 9 columns</p>\n",
              "</div>\n",
              "      <button class=\"colab-df-convert\" onclick=\"convertToInteractive('df-3acf3780-6935-4081-999f-5bf09809840b')\"\n",
              "              title=\"Convert this dataframe to an interactive table.\"\n",
              "              style=\"display:none;\">\n",
              "        \n",
              "  <svg xmlns=\"http://www.w3.org/2000/svg\" height=\"24px\"viewBox=\"0 0 24 24\"\n",
              "       width=\"24px\">\n",
              "    <path d=\"M0 0h24v24H0V0z\" fill=\"none\"/>\n",
              "    <path d=\"M18.56 5.44l.94 2.06.94-2.06 2.06-.94-2.06-.94-.94-2.06-.94 2.06-2.06.94zm-11 1L8.5 8.5l.94-2.06 2.06-.94-2.06-.94L8.5 2.5l-.94 2.06-2.06.94zm10 10l.94 2.06.94-2.06 2.06-.94-2.06-.94-.94-2.06-.94 2.06-2.06.94z\"/><path d=\"M17.41 7.96l-1.37-1.37c-.4-.4-.92-.59-1.43-.59-.52 0-1.04.2-1.43.59L10.3 9.45l-7.72 7.72c-.78.78-.78 2.05 0 2.83L4 21.41c.39.39.9.59 1.41.59.51 0 1.02-.2 1.41-.59l7.78-7.78 2.81-2.81c.8-.78.8-2.07 0-2.86zM5.41 20L4 18.59l7.72-7.72 1.47 1.35L5.41 20z\"/>\n",
              "  </svg>\n",
              "      </button>\n",
              "      \n",
              "  <style>\n",
              "    .colab-df-container {\n",
              "      display:flex;\n",
              "      flex-wrap:wrap;\n",
              "      gap: 12px;\n",
              "    }\n",
              "\n",
              "    .colab-df-convert {\n",
              "      background-color: #E8F0FE;\n",
              "      border: none;\n",
              "      border-radius: 50%;\n",
              "      cursor: pointer;\n",
              "      display: none;\n",
              "      fill: #1967D2;\n",
              "      height: 32px;\n",
              "      padding: 0 0 0 0;\n",
              "      width: 32px;\n",
              "    }\n",
              "\n",
              "    .colab-df-convert:hover {\n",
              "      background-color: #E2EBFA;\n",
              "      box-shadow: 0px 1px 2px rgba(60, 64, 67, 0.3), 0px 1px 3px 1px rgba(60, 64, 67, 0.15);\n",
              "      fill: #174EA6;\n",
              "    }\n",
              "\n",
              "    [theme=dark] .colab-df-convert {\n",
              "      background-color: #3B4455;\n",
              "      fill: #D2E3FC;\n",
              "    }\n",
              "\n",
              "    [theme=dark] .colab-df-convert:hover {\n",
              "      background-color: #434B5C;\n",
              "      box-shadow: 0px 1px 3px 1px rgba(0, 0, 0, 0.15);\n",
              "      filter: drop-shadow(0px 1px 2px rgba(0, 0, 0, 0.3));\n",
              "      fill: #FFFFFF;\n",
              "    }\n",
              "  </style>\n",
              "\n",
              "      <script>\n",
              "        const buttonEl =\n",
              "          document.querySelector('#df-3acf3780-6935-4081-999f-5bf09809840b button.colab-df-convert');\n",
              "        buttonEl.style.display =\n",
              "          google.colab.kernel.accessAllowed ? 'block' : 'none';\n",
              "\n",
              "        async function convertToInteractive(key) {\n",
              "          const element = document.querySelector('#df-3acf3780-6935-4081-999f-5bf09809840b');\n",
              "          const dataTable =\n",
              "            await google.colab.kernel.invokeFunction('convertToInteractive',\n",
              "                                                     [key], {});\n",
              "          if (!dataTable) return;\n",
              "\n",
              "          const docLinkHtml = 'Like what you see? Visit the ' +\n",
              "            '<a target=\"_blank\" href=https://colab.research.google.com/notebooks/data_table.ipynb>data table notebook</a>'\n",
              "            + ' to learn more about interactive tables.';\n",
              "          element.innerHTML = '';\n",
              "          dataTable['output_type'] = 'display_data';\n",
              "          await google.colab.output.renderOutput(dataTable, element);\n",
              "          const docLink = document.createElement('div');\n",
              "          docLink.innerHTML = docLinkHtml;\n",
              "          element.appendChild(docLink);\n",
              "        }\n",
              "      </script>\n",
              "    </div>\n",
              "  </div>\n",
              "  "
            ],
            "text/plain": [
              "       InvoiceNo StockCode                   Description  Quantity  \\\n",
              "243235    558714     10133  COLOURING PENCILS BROWN TUBE        10   \n",
              "243254   C558716     10133  COLOURING PENCILS BROWN TUBE       -10   \n",
              "366373    569214     15034   PAPER POCKET TRAVELING FAN       1200   \n",
              "372531   C569552     15034   PAPER POCKET TRAVELING FAN      -1200   \n",
              "240977    558533     15036     ASSORTED COLOURS SILK FAN        24   \n",
              "...          ...       ...                           ...       ...   \n",
              "191394   C553560         M                        Manual        -1   \n",
              "179781    552549         M                        Manual         1   \n",
              "179818   C552553         M                        Manual        -1   \n",
              "170694   C551685      POST                       POSTAGE        -1   \n",
              "170792    551697      POST                       POSTAGE         1   \n",
              "\n",
              "               InvoiceDate  UnitPrice CustomerID          Country    sales  \n",
              "243235 2011-07-01 13:17:00       0.42      17888   United Kingdom      4.2  \n",
              "243254 2011-07-01 13:22:00       0.42      17888   United Kingdom     -4.2  \n",
              "366373 2011-10-02 12:22:00       0.07      14533   United Kingdom     84.0  \n",
              "372531 2011-10-04 17:44:00       0.07      14533   United Kingdom    -84.0  \n",
              "240977 2011-06-30 11:49:00       0.83      16717   United Kingdom    19.92  \n",
              "...                    ...        ...        ...              ...      ...  \n",
              "191394 2011-05-17 17:14:00      293.0      14931  Channel Islands   -293.0  \n",
              "179781 2011-05-10 10:39:00     334.71      15674   United Kingdom   334.71  \n",
              "179818 2011-05-10 10:51:00     334.71      15674   United Kingdom  -334.71  \n",
              "170694 2011-05-03 12:51:00    8142.75      16029   United Kingdom -8142.75  \n",
              "170792 2011-05-03 13:46:00    8142.75      16029   United Kingdom  8142.75  \n",
              "\n",
              "[3044 rows x 9 columns]"
            ]
          },
          "metadata": {},
          "execution_count": 16
        }
      ]
    },
    {
      "cell_type": "code",
      "source": [
        "# total number of transactions along with returns\n",
        "netzero_sales.shape"
      ],
      "metadata": {
        "colab": {
          "base_uri": "https://localhost:8080/"
        },
        "id": "I2Jg31x1C5ql",
        "outputId": "e440dafc-b7ea-41c4-ceba-0c6b5d3fff7f"
      },
      "execution_count": 17,
      "outputs": [
        {
          "output_type": "execute_result",
          "data": {
            "text/plain": [
              "(3044, 9)"
            ]
          },
          "metadata": {},
          "execution_count": 17
        }
      ]
    },
    {
      "cell_type": "code",
      "source": [
        "# Cross validating the result\n",
        "netzero_sales.sales.sum().round()"
      ],
      "metadata": {
        "colab": {
          "base_uri": "https://localhost:8080/"
        },
        "id": "wYG_IbweZZAk",
        "outputId": "a0337b5f-9002-44e5-db45-f02981cc0736"
      },
      "execution_count": 18,
      "outputs": [
        {
          "output_type": "execute_result",
          "data": {
            "text/plain": [
              "-0.0"
            ]
          },
          "metadata": {},
          "execution_count": 18
        }
      ]
    },
    {
      "cell_type": "markdown",
      "source": [
        "Clean netzero sale transactions"
      ],
      "metadata": {
        "id": "qlhwMqClC_YG"
      }
    },
    {
      "cell_type": "code",
      "source": [
        "print(df.shape)\n",
        "df = df[~df.groupby(['CustomerID','StockCode'])['sales'].transform('sum').eq(0)]\n",
        "print(df.shape)"
      ],
      "metadata": {
        "colab": {
          "base_uri": "https://localhost:8080/"
        },
        "id": "De-CZccuDSen",
        "outputId": "e4b4beaf-2836-4709-8201-76e9b2a75428"
      },
      "execution_count": 19,
      "outputs": [
        {
          "output_type": "stream",
          "name": "stdout",
          "text": [
            "(534131, 9)\n",
            "(531087, 9)\n"
          ]
        }
      ]
    },
    {
      "cell_type": "markdown",
      "source": [
        "We can confirm the removal of 3044 purchases and returns identified. Again we check the descriptive statistics"
      ],
      "metadata": {
        "id": "DCr8puf_o2Sb"
      }
    },
    {
      "cell_type": "code",
      "source": [
        "df.describe()"
      ],
      "metadata": {
        "colab": {
          "base_uri": "https://localhost:8080/",
          "height": 300
        },
        "id": "_4ViWy-q3o2s",
        "outputId": "a4f60d73-9d2a-4b7e-fb26-d85551a3ceb2"
      },
      "execution_count": 20,
      "outputs": [
        {
          "output_type": "execute_result",
          "data": {
            "text/html": [
              "\n",
              "  <div id=\"df-8dfc97b7-2ffd-41a8-bb0e-dd474b5f7aab\">\n",
              "    <div class=\"colab-df-container\">\n",
              "      <div>\n",
              "<style scoped>\n",
              "    .dataframe tbody tr th:only-of-type {\n",
              "        vertical-align: middle;\n",
              "    }\n",
              "\n",
              "    .dataframe tbody tr th {\n",
              "        vertical-align: top;\n",
              "    }\n",
              "\n",
              "    .dataframe thead th {\n",
              "        text-align: right;\n",
              "    }\n",
              "</style>\n",
              "<table border=\"1\" class=\"dataframe\">\n",
              "  <thead>\n",
              "    <tr style=\"text-align: right;\">\n",
              "      <th></th>\n",
              "      <th>Quantity</th>\n",
              "      <th>UnitPrice</th>\n",
              "      <th>sales</th>\n",
              "    </tr>\n",
              "  </thead>\n",
              "  <tbody>\n",
              "    <tr>\n",
              "      <th>count</th>\n",
              "      <td>531087.000000</td>\n",
              "      <td>531087.000000</td>\n",
              "      <td>531087.000000</td>\n",
              "    </tr>\n",
              "    <tr>\n",
              "      <th>mean</th>\n",
              "      <td>9.973624</td>\n",
              "      <td>4.539735</td>\n",
              "      <td>18.313397</td>\n",
              "    </tr>\n",
              "    <tr>\n",
              "      <th>std</th>\n",
              "      <td>40.713949</td>\n",
              "      <td>95.669873</td>\n",
              "      <td>128.834851</td>\n",
              "    </tr>\n",
              "    <tr>\n",
              "      <th>min</th>\n",
              "      <td>-9360.000000</td>\n",
              "      <td>-11062.060000</td>\n",
              "      <td>-38970.000000</td>\n",
              "    </tr>\n",
              "    <tr>\n",
              "      <th>25%</th>\n",
              "      <td>1.000000</td>\n",
              "      <td>1.250000</td>\n",
              "      <td>3.750000</td>\n",
              "    </tr>\n",
              "    <tr>\n",
              "      <th>50%</th>\n",
              "      <td>3.000000</td>\n",
              "      <td>2.100000</td>\n",
              "      <td>9.900000</td>\n",
              "    </tr>\n",
              "    <tr>\n",
              "      <th>75%</th>\n",
              "      <td>10.000000</td>\n",
              "      <td>4.130000</td>\n",
              "      <td>17.700000</td>\n",
              "    </tr>\n",
              "    <tr>\n",
              "      <th>max</th>\n",
              "      <td>4800.000000</td>\n",
              "      <td>38970.000000</td>\n",
              "      <td>38970.000000</td>\n",
              "    </tr>\n",
              "  </tbody>\n",
              "</table>\n",
              "</div>\n",
              "      <button class=\"colab-df-convert\" onclick=\"convertToInteractive('df-8dfc97b7-2ffd-41a8-bb0e-dd474b5f7aab')\"\n",
              "              title=\"Convert this dataframe to an interactive table.\"\n",
              "              style=\"display:none;\">\n",
              "        \n",
              "  <svg xmlns=\"http://www.w3.org/2000/svg\" height=\"24px\"viewBox=\"0 0 24 24\"\n",
              "       width=\"24px\">\n",
              "    <path d=\"M0 0h24v24H0V0z\" fill=\"none\"/>\n",
              "    <path d=\"M18.56 5.44l.94 2.06.94-2.06 2.06-.94-2.06-.94-.94-2.06-.94 2.06-2.06.94zm-11 1L8.5 8.5l.94-2.06 2.06-.94-2.06-.94L8.5 2.5l-.94 2.06-2.06.94zm10 10l.94 2.06.94-2.06 2.06-.94-2.06-.94-.94-2.06-.94 2.06-2.06.94z\"/><path d=\"M17.41 7.96l-1.37-1.37c-.4-.4-.92-.59-1.43-.59-.52 0-1.04.2-1.43.59L10.3 9.45l-7.72 7.72c-.78.78-.78 2.05 0 2.83L4 21.41c.39.39.9.59 1.41.59.51 0 1.02-.2 1.41-.59l7.78-7.78 2.81-2.81c.8-.78.8-2.07 0-2.86zM5.41 20L4 18.59l7.72-7.72 1.47 1.35L5.41 20z\"/>\n",
              "  </svg>\n",
              "      </button>\n",
              "      \n",
              "  <style>\n",
              "    .colab-df-container {\n",
              "      display:flex;\n",
              "      flex-wrap:wrap;\n",
              "      gap: 12px;\n",
              "    }\n",
              "\n",
              "    .colab-df-convert {\n",
              "      background-color: #E8F0FE;\n",
              "      border: none;\n",
              "      border-radius: 50%;\n",
              "      cursor: pointer;\n",
              "      display: none;\n",
              "      fill: #1967D2;\n",
              "      height: 32px;\n",
              "      padding: 0 0 0 0;\n",
              "      width: 32px;\n",
              "    }\n",
              "\n",
              "    .colab-df-convert:hover {\n",
              "      background-color: #E2EBFA;\n",
              "      box-shadow: 0px 1px 2px rgba(60, 64, 67, 0.3), 0px 1px 3px 1px rgba(60, 64, 67, 0.15);\n",
              "      fill: #174EA6;\n",
              "    }\n",
              "\n",
              "    [theme=dark] .colab-df-convert {\n",
              "      background-color: #3B4455;\n",
              "      fill: #D2E3FC;\n",
              "    }\n",
              "\n",
              "    [theme=dark] .colab-df-convert:hover {\n",
              "      background-color: #434B5C;\n",
              "      box-shadow: 0px 1px 3px 1px rgba(0, 0, 0, 0.15);\n",
              "      filter: drop-shadow(0px 1px 2px rgba(0, 0, 0, 0.3));\n",
              "      fill: #FFFFFF;\n",
              "    }\n",
              "  </style>\n",
              "\n",
              "      <script>\n",
              "        const buttonEl =\n",
              "          document.querySelector('#df-8dfc97b7-2ffd-41a8-bb0e-dd474b5f7aab button.colab-df-convert');\n",
              "        buttonEl.style.display =\n",
              "          google.colab.kernel.accessAllowed ? 'block' : 'none';\n",
              "\n",
              "        async function convertToInteractive(key) {\n",
              "          const element = document.querySelector('#df-8dfc97b7-2ffd-41a8-bb0e-dd474b5f7aab');\n",
              "          const dataTable =\n",
              "            await google.colab.kernel.invokeFunction('convertToInteractive',\n",
              "                                                     [key], {});\n",
              "          if (!dataTable) return;\n",
              "\n",
              "          const docLinkHtml = 'Like what you see? Visit the ' +\n",
              "            '<a target=\"_blank\" href=https://colab.research.google.com/notebooks/data_table.ipynb>data table notebook</a>'\n",
              "            + ' to learn more about interactive tables.';\n",
              "          element.innerHTML = '';\n",
              "          dataTable['output_type'] = 'display_data';\n",
              "          await google.colab.output.renderOutput(dataTable, element);\n",
              "          const docLink = document.createElement('div');\n",
              "          docLink.innerHTML = docLinkHtml;\n",
              "          element.appendChild(docLink);\n",
              "        }\n",
              "      </script>\n",
              "    </div>\n",
              "  </div>\n",
              "  "
            ],
            "text/plain": [
              "            Quantity      UnitPrice          sales\n",
              "count  531087.000000  531087.000000  531087.000000\n",
              "mean        9.973624       4.539735      18.313397\n",
              "std        40.713949      95.669873     128.834851\n",
              "min     -9360.000000  -11062.060000  -38970.000000\n",
              "25%         1.000000       1.250000       3.750000\n",
              "50%         3.000000       2.100000       9.900000\n",
              "75%        10.000000       4.130000      17.700000\n",
              "max      4800.000000   38970.000000   38970.000000"
            ]
          },
          "metadata": {},
          "execution_count": 20
        }
      ]
    },
    {
      "cell_type": "markdown",
      "source": [
        "We can peek into transactions corresponds to 38,970 sale transaction and corresponding return. "
      ],
      "metadata": {
        "id": "FtOItnjcAvPd"
      }
    },
    {
      "cell_type": "code",
      "source": [
        "df[df.sales.eq(38970.000000) | df.sales.eq(-38970.000000)]"
      ],
      "metadata": {
        "colab": {
          "base_uri": "https://localhost:8080/",
          "height": 112
        },
        "id": "HluVVIVCAZqw",
        "outputId": "59890e63-5335-4184-eb1a-3ffaec8cf269"
      },
      "execution_count": 21,
      "outputs": [
        {
          "output_type": "execute_result",
          "data": {
            "text/html": [
              "\n",
              "  <div id=\"df-cfa7d9d0-5b07-412c-9adb-8aa1b988a545\">\n",
              "    <div class=\"colab-df-container\">\n",
              "      <div>\n",
              "<style scoped>\n",
              "    .dataframe tbody tr th:only-of-type {\n",
              "        vertical-align: middle;\n",
              "    }\n",
              "\n",
              "    .dataframe tbody tr th {\n",
              "        vertical-align: top;\n",
              "    }\n",
              "\n",
              "    .dataframe thead th {\n",
              "        text-align: right;\n",
              "    }\n",
              "</style>\n",
              "<table border=\"1\" class=\"dataframe\">\n",
              "  <thead>\n",
              "    <tr style=\"text-align: right;\">\n",
              "      <th></th>\n",
              "      <th>InvoiceNo</th>\n",
              "      <th>StockCode</th>\n",
              "      <th>Description</th>\n",
              "      <th>Quantity</th>\n",
              "      <th>InvoiceDate</th>\n",
              "      <th>UnitPrice</th>\n",
              "      <th>CustomerID</th>\n",
              "      <th>Country</th>\n",
              "      <th>sales</th>\n",
              "    </tr>\n",
              "  </thead>\n",
              "  <tbody>\n",
              "    <tr>\n",
              "      <th>219468</th>\n",
              "      <td>556444</td>\n",
              "      <td>22502</td>\n",
              "      <td>PICNIC BASKET WICKER 60 PIECES</td>\n",
              "      <td>60</td>\n",
              "      <td>2011-06-10 15:28:00</td>\n",
              "      <td>649.5</td>\n",
              "      <td>15098</td>\n",
              "      <td>United Kingdom</td>\n",
              "      <td>38970.0</td>\n",
              "    </tr>\n",
              "    <tr>\n",
              "      <th>219469</th>\n",
              "      <td>C556445</td>\n",
              "      <td>M</td>\n",
              "      <td>Manual</td>\n",
              "      <td>-1</td>\n",
              "      <td>2011-06-10 15:31:00</td>\n",
              "      <td>38970.0</td>\n",
              "      <td>15098</td>\n",
              "      <td>United Kingdom</td>\n",
              "      <td>-38970.0</td>\n",
              "    </tr>\n",
              "  </tbody>\n",
              "</table>\n",
              "</div>\n",
              "      <button class=\"colab-df-convert\" onclick=\"convertToInteractive('df-cfa7d9d0-5b07-412c-9adb-8aa1b988a545')\"\n",
              "              title=\"Convert this dataframe to an interactive table.\"\n",
              "              style=\"display:none;\">\n",
              "        \n",
              "  <svg xmlns=\"http://www.w3.org/2000/svg\" height=\"24px\"viewBox=\"0 0 24 24\"\n",
              "       width=\"24px\">\n",
              "    <path d=\"M0 0h24v24H0V0z\" fill=\"none\"/>\n",
              "    <path d=\"M18.56 5.44l.94 2.06.94-2.06 2.06-.94-2.06-.94-.94-2.06-.94 2.06-2.06.94zm-11 1L8.5 8.5l.94-2.06 2.06-.94-2.06-.94L8.5 2.5l-.94 2.06-2.06.94zm10 10l.94 2.06.94-2.06 2.06-.94-2.06-.94-.94-2.06-.94 2.06-2.06.94z\"/><path d=\"M17.41 7.96l-1.37-1.37c-.4-.4-.92-.59-1.43-.59-.52 0-1.04.2-1.43.59L10.3 9.45l-7.72 7.72c-.78.78-.78 2.05 0 2.83L4 21.41c.39.39.9.59 1.41.59.51 0 1.02-.2 1.41-.59l7.78-7.78 2.81-2.81c.8-.78.8-2.07 0-2.86zM5.41 20L4 18.59l7.72-7.72 1.47 1.35L5.41 20z\"/>\n",
              "  </svg>\n",
              "      </button>\n",
              "      \n",
              "  <style>\n",
              "    .colab-df-container {\n",
              "      display:flex;\n",
              "      flex-wrap:wrap;\n",
              "      gap: 12px;\n",
              "    }\n",
              "\n",
              "    .colab-df-convert {\n",
              "      background-color: #E8F0FE;\n",
              "      border: none;\n",
              "      border-radius: 50%;\n",
              "      cursor: pointer;\n",
              "      display: none;\n",
              "      fill: #1967D2;\n",
              "      height: 32px;\n",
              "      padding: 0 0 0 0;\n",
              "      width: 32px;\n",
              "    }\n",
              "\n",
              "    .colab-df-convert:hover {\n",
              "      background-color: #E2EBFA;\n",
              "      box-shadow: 0px 1px 2px rgba(60, 64, 67, 0.3), 0px 1px 3px 1px rgba(60, 64, 67, 0.15);\n",
              "      fill: #174EA6;\n",
              "    }\n",
              "\n",
              "    [theme=dark] .colab-df-convert {\n",
              "      background-color: #3B4455;\n",
              "      fill: #D2E3FC;\n",
              "    }\n",
              "\n",
              "    [theme=dark] .colab-df-convert:hover {\n",
              "      background-color: #434B5C;\n",
              "      box-shadow: 0px 1px 3px 1px rgba(0, 0, 0, 0.15);\n",
              "      filter: drop-shadow(0px 1px 2px rgba(0, 0, 0, 0.3));\n",
              "      fill: #FFFFFF;\n",
              "    }\n",
              "  </style>\n",
              "\n",
              "      <script>\n",
              "        const buttonEl =\n",
              "          document.querySelector('#df-cfa7d9d0-5b07-412c-9adb-8aa1b988a545 button.colab-df-convert');\n",
              "        buttonEl.style.display =\n",
              "          google.colab.kernel.accessAllowed ? 'block' : 'none';\n",
              "\n",
              "        async function convertToInteractive(key) {\n",
              "          const element = document.querySelector('#df-cfa7d9d0-5b07-412c-9adb-8aa1b988a545');\n",
              "          const dataTable =\n",
              "            await google.colab.kernel.invokeFunction('convertToInteractive',\n",
              "                                                     [key], {});\n",
              "          if (!dataTable) return;\n",
              "\n",
              "          const docLinkHtml = 'Like what you see? Visit the ' +\n",
              "            '<a target=\"_blank\" href=https://colab.research.google.com/notebooks/data_table.ipynb>data table notebook</a>'\n",
              "            + ' to learn more about interactive tables.';\n",
              "          element.innerHTML = '';\n",
              "          dataTable['output_type'] = 'display_data';\n",
              "          await google.colab.output.renderOutput(dataTable, element);\n",
              "          const docLink = document.createElement('div');\n",
              "          docLink.innerHTML = docLinkHtml;\n",
              "          element.appendChild(docLink);\n",
              "        }\n",
              "      </script>\n",
              "    </div>\n",
              "  </div>\n",
              "  "
            ],
            "text/plain": [
              "       InvoiceNo StockCode                     Description  Quantity  \\\n",
              "219468    556444     22502  PICNIC BASKET WICKER 60 PIECES        60   \n",
              "219469   C556445         M                          Manual        -1   \n",
              "\n",
              "               InvoiceDate  UnitPrice CustomerID         Country    sales  \n",
              "219468 2011-06-10 15:28:00      649.5      15098  United Kingdom  38970.0  \n",
              "219469 2011-06-10 15:31:00    38970.0      15098  United Kingdom -38970.0  "
            ]
          },
          "metadata": {},
          "execution_count": 21
        }
      ]
    },
    {
      "cell_type": "code",
      "source": [
        "df[df.CustomerID == '15098']"
      ],
      "metadata": {
        "colab": {
          "base_uri": "https://localhost:8080/",
          "height": 206
        },
        "id": "_oSY6mXgEju1",
        "outputId": "28f4d55e-2478-49f1-de72-3df5cb321fff"
      },
      "execution_count": 22,
      "outputs": [
        {
          "output_type": "execute_result",
          "data": {
            "text/html": [
              "\n",
              "  <div id=\"df-b572b502-8b34-4526-9061-7c060a5d7e1b\">\n",
              "    <div class=\"colab-df-container\">\n",
              "      <div>\n",
              "<style scoped>\n",
              "    .dataframe tbody tr th:only-of-type {\n",
              "        vertical-align: middle;\n",
              "    }\n",
              "\n",
              "    .dataframe tbody tr th {\n",
              "        vertical-align: top;\n",
              "    }\n",
              "\n",
              "    .dataframe thead th {\n",
              "        text-align: right;\n",
              "    }\n",
              "</style>\n",
              "<table border=\"1\" class=\"dataframe\">\n",
              "  <thead>\n",
              "    <tr style=\"text-align: right;\">\n",
              "      <th></th>\n",
              "      <th>InvoiceNo</th>\n",
              "      <th>StockCode</th>\n",
              "      <th>Description</th>\n",
              "      <th>Quantity</th>\n",
              "      <th>InvoiceDate</th>\n",
              "      <th>UnitPrice</th>\n",
              "      <th>CustomerID</th>\n",
              "      <th>Country</th>\n",
              "      <th>sales</th>\n",
              "    </tr>\n",
              "  </thead>\n",
              "  <tbody>\n",
              "    <tr>\n",
              "      <th>219458</th>\n",
              "      <td>556442</td>\n",
              "      <td>22502</td>\n",
              "      <td>PICNIC BASKET WICKER SMALL</td>\n",
              "      <td>60</td>\n",
              "      <td>2011-06-10 15:22:00</td>\n",
              "      <td>4.95</td>\n",
              "      <td>15098</td>\n",
              "      <td>United Kingdom</td>\n",
              "      <td>297.0</td>\n",
              "    </tr>\n",
              "    <tr>\n",
              "      <th>219468</th>\n",
              "      <td>556444</td>\n",
              "      <td>22502</td>\n",
              "      <td>PICNIC BASKET WICKER 60 PIECES</td>\n",
              "      <td>60</td>\n",
              "      <td>2011-06-10 15:28:00</td>\n",
              "      <td>649.5</td>\n",
              "      <td>15098</td>\n",
              "      <td>United Kingdom</td>\n",
              "      <td>38970.0</td>\n",
              "    </tr>\n",
              "    <tr>\n",
              "      <th>219469</th>\n",
              "      <td>C556445</td>\n",
              "      <td>M</td>\n",
              "      <td>Manual</td>\n",
              "      <td>-1</td>\n",
              "      <td>2011-06-10 15:31:00</td>\n",
              "      <td>38970.0</td>\n",
              "      <td>15098</td>\n",
              "      <td>United Kingdom</td>\n",
              "      <td>-38970.0</td>\n",
              "    </tr>\n",
              "    <tr>\n",
              "      <th>219470</th>\n",
              "      <td>556446</td>\n",
              "      <td>22502</td>\n",
              "      <td>PICNIC BASKET WICKER 60 PIECES</td>\n",
              "      <td>1</td>\n",
              "      <td>2011-06-10 15:33:00</td>\n",
              "      <td>649.5</td>\n",
              "      <td>15098</td>\n",
              "      <td>United Kingdom</td>\n",
              "      <td>649.5</td>\n",
              "    </tr>\n",
              "    <tr>\n",
              "      <th>219480</th>\n",
              "      <td>C556448</td>\n",
              "      <td>22502</td>\n",
              "      <td>PICNIC BASKET WICKER SMALL</td>\n",
              "      <td>-60</td>\n",
              "      <td>2011-06-10 15:39:00</td>\n",
              "      <td>4.95</td>\n",
              "      <td>15098</td>\n",
              "      <td>United Kingdom</td>\n",
              "      <td>-297.0</td>\n",
              "    </tr>\n",
              "  </tbody>\n",
              "</table>\n",
              "</div>\n",
              "      <button class=\"colab-df-convert\" onclick=\"convertToInteractive('df-b572b502-8b34-4526-9061-7c060a5d7e1b')\"\n",
              "              title=\"Convert this dataframe to an interactive table.\"\n",
              "              style=\"display:none;\">\n",
              "        \n",
              "  <svg xmlns=\"http://www.w3.org/2000/svg\" height=\"24px\"viewBox=\"0 0 24 24\"\n",
              "       width=\"24px\">\n",
              "    <path d=\"M0 0h24v24H0V0z\" fill=\"none\"/>\n",
              "    <path d=\"M18.56 5.44l.94 2.06.94-2.06 2.06-.94-2.06-.94-.94-2.06-.94 2.06-2.06.94zm-11 1L8.5 8.5l.94-2.06 2.06-.94-2.06-.94L8.5 2.5l-.94 2.06-2.06.94zm10 10l.94 2.06.94-2.06 2.06-.94-2.06-.94-.94-2.06-.94 2.06-2.06.94z\"/><path d=\"M17.41 7.96l-1.37-1.37c-.4-.4-.92-.59-1.43-.59-.52 0-1.04.2-1.43.59L10.3 9.45l-7.72 7.72c-.78.78-.78 2.05 0 2.83L4 21.41c.39.39.9.59 1.41.59.51 0 1.02-.2 1.41-.59l7.78-7.78 2.81-2.81c.8-.78.8-2.07 0-2.86zM5.41 20L4 18.59l7.72-7.72 1.47 1.35L5.41 20z\"/>\n",
              "  </svg>\n",
              "      </button>\n",
              "      \n",
              "  <style>\n",
              "    .colab-df-container {\n",
              "      display:flex;\n",
              "      flex-wrap:wrap;\n",
              "      gap: 12px;\n",
              "    }\n",
              "\n",
              "    .colab-df-convert {\n",
              "      background-color: #E8F0FE;\n",
              "      border: none;\n",
              "      border-radius: 50%;\n",
              "      cursor: pointer;\n",
              "      display: none;\n",
              "      fill: #1967D2;\n",
              "      height: 32px;\n",
              "      padding: 0 0 0 0;\n",
              "      width: 32px;\n",
              "    }\n",
              "\n",
              "    .colab-df-convert:hover {\n",
              "      background-color: #E2EBFA;\n",
              "      box-shadow: 0px 1px 2px rgba(60, 64, 67, 0.3), 0px 1px 3px 1px rgba(60, 64, 67, 0.15);\n",
              "      fill: #174EA6;\n",
              "    }\n",
              "\n",
              "    [theme=dark] .colab-df-convert {\n",
              "      background-color: #3B4455;\n",
              "      fill: #D2E3FC;\n",
              "    }\n",
              "\n",
              "    [theme=dark] .colab-df-convert:hover {\n",
              "      background-color: #434B5C;\n",
              "      box-shadow: 0px 1px 3px 1px rgba(0, 0, 0, 0.15);\n",
              "      filter: drop-shadow(0px 1px 2px rgba(0, 0, 0, 0.3));\n",
              "      fill: #FFFFFF;\n",
              "    }\n",
              "  </style>\n",
              "\n",
              "      <script>\n",
              "        const buttonEl =\n",
              "          document.querySelector('#df-b572b502-8b34-4526-9061-7c060a5d7e1b button.colab-df-convert');\n",
              "        buttonEl.style.display =\n",
              "          google.colab.kernel.accessAllowed ? 'block' : 'none';\n",
              "\n",
              "        async function convertToInteractive(key) {\n",
              "          const element = document.querySelector('#df-b572b502-8b34-4526-9061-7c060a5d7e1b');\n",
              "          const dataTable =\n",
              "            await google.colab.kernel.invokeFunction('convertToInteractive',\n",
              "                                                     [key], {});\n",
              "          if (!dataTable) return;\n",
              "\n",
              "          const docLinkHtml = 'Like what you see? Visit the ' +\n",
              "            '<a target=\"_blank\" href=https://colab.research.google.com/notebooks/data_table.ipynb>data table notebook</a>'\n",
              "            + ' to learn more about interactive tables.';\n",
              "          element.innerHTML = '';\n",
              "          dataTable['output_type'] = 'display_data';\n",
              "          await google.colab.output.renderOutput(dataTable, element);\n",
              "          const docLink = document.createElement('div');\n",
              "          docLink.innerHTML = docLinkHtml;\n",
              "          element.appendChild(docLink);\n",
              "        }\n",
              "      </script>\n",
              "    </div>\n",
              "  </div>\n",
              "  "
            ],
            "text/plain": [
              "       InvoiceNo StockCode                     Description  Quantity  \\\n",
              "219458    556442     22502      PICNIC BASKET WICKER SMALL        60   \n",
              "219468    556444     22502  PICNIC BASKET WICKER 60 PIECES        60   \n",
              "219469   C556445         M                          Manual        -1   \n",
              "219470    556446     22502  PICNIC BASKET WICKER 60 PIECES         1   \n",
              "219480   C556448     22502      PICNIC BASKET WICKER SMALL       -60   \n",
              "\n",
              "               InvoiceDate  UnitPrice CustomerID         Country    sales  \n",
              "219458 2011-06-10 15:22:00       4.95      15098  United Kingdom    297.0  \n",
              "219468 2011-06-10 15:28:00      649.5      15098  United Kingdom  38970.0  \n",
              "219469 2011-06-10 15:31:00    38970.0      15098  United Kingdom -38970.0  \n",
              "219470 2011-06-10 15:33:00      649.5      15098  United Kingdom    649.5  \n",
              "219480 2011-06-10 15:39:00       4.95      15098  United Kingdom   -297.0  "
            ]
          },
          "metadata": {},
          "execution_count": 22
        }
      ]
    },
    {
      "cell_type": "markdown",
      "source": [
        "As expected we can see that these are errors and a correction done manually. Customer actually paid 649.5. Since we removed net zero sale transactions using combination of stock code and customer id, these transactions are not removed by group by filtering criteria."
      ],
      "metadata": {
        "id": "CW3lG0VPr0cF"
      }
    },
    {
      "cell_type": "markdown",
      "source": [
        "Now we would remove the transactions that net to zero at the customer level. \n",
        "\n"
      ],
      "metadata": {
        "id": "Lu35Q1VLVT74"
      }
    },
    {
      "cell_type": "code",
      "source": [
        "print(df.shape)\n",
        "df = df[~df.groupby(['CustomerID'])['sales'].transform('sum').eq(0)]\n",
        "print(df.shape)"
      ],
      "metadata": {
        "colab": {
          "base_uri": "https://localhost:8080/"
        },
        "id": "MognBOLnmwja",
        "outputId": "4769bc48-079e-439c-d2ca-408ef102e076"
      },
      "execution_count": 23,
      "outputs": [
        {
          "output_type": "stream",
          "name": "stdout",
          "text": [
            "(531087, 9)\n",
            "(531077, 9)\n"
          ]
        }
      ]
    },
    {
      "cell_type": "markdown",
      "source": [
        "After the above step, we can safely assume that remaining return transactions would be partial returns where net sales amount would be positive value or zero if stock codes mismatch when customer returns the merchandise or due to manual adjustments. As the sales netted to zero, these transactions don't affect the customer life time value estimates down the road. However, returns with missing customer identification can be problematic, as all missing customer transactions are lumped into single group. "
      ],
      "metadata": {
        "id": "sfD-e1cHUGtw"
      }
    },
    {
      "cell_type": "markdown",
      "source": [
        "There are some product codes that are not actual products, but can be considered as cost of saless such ; \n",
        "* Fees paid to Amazon\n",
        "* Bad debt adjustment possibly the result of delinquncy on purchase made by retailer issued credit \n",
        "* Bank charges paid by the retailer\n",
        "* Optional donation elected by customers to Cancer Research UK (CRUK).\n",
        "* Postage charges/DOTCOM POSTAGE- some cases retailer may have offered free shipping and other cases customers have paid for the postage. Total postage amount is positive\n",
        "\n",
        "Excluding donations to CRUK, the remaining trasactions partially paid by customers but net amount is negative adjustment to sales, which turned out to be cost of sales of about $185K.\n",
        "\n",
        "Generally we would allocate these costs to customers based on worked out allocation strategy such as customer lifetime value. But we are not pursuing this route for this analysis. \n",
        "\n",
        "Therefore we remove these transactions for further analysis, where customer is not directly associated with the transaction."
      ],
      "metadata": {
        "id": "qCeOSgmkoOit"
      }
    },
    {
      "cell_type": "code",
      "source": [
        "cost_codes = ['AMAZONFEE','B','POST','DOT','CRUK','BANK CHARGES','S']\n",
        "\n",
        "misc_sales = df.loc[(df.StockCode.isin(cost_codes)) & \\\n",
        "                       (df.CustomerID == '<NA>')]\n",
        "misc_sales.sales.sum()"
      ],
      "metadata": {
        "colab": {
          "base_uri": "https://localhost:8080/"
        },
        "id": "G8358Uug5lXv",
        "outputId": "e16f4dd7-7eff-4534-de6f-60329da744a2"
      },
      "execution_count": 28,
      "outputs": [
        {
          "output_type": "execute_result",
          "data": {
            "text/plain": [
              "-49103.33"
            ]
          },
          "metadata": {},
          "execution_count": 28
        }
      ]
    },
    {
      "cell_type": "code",
      "source": [
        "# removing the misc. sales from the cost codes stated above\n",
        "print(df.shape)\n",
        "df = df.loc[~((df.StockCode.isin(cost_codes)) & \\\n",
        "            (df.CustomerID == '<NA>'))]\n",
        "print(df.shape)"
      ],
      "metadata": {
        "colab": {
          "base_uri": "https://localhost:8080/"
        },
        "id": "xkh8zE-lsfXN",
        "outputId": "de8ad11b-904c-479f-d986-5ba6bc5cec97"
      },
      "execution_count": 29,
      "outputs": [
        {
          "output_type": "stream",
          "name": "stdout",
          "text": [
            "(531077, 9)\n",
            "(530206, 9)\n"
          ]
        }
      ]
    },
    {
      "cell_type": "markdown",
      "source": [
        "We can remove remaining trasactions with no customer ids when we look for metrics per customer such as average sales per customer. But for now we proceed with 530,206 records for further descriptive analysis. "
      ],
      "metadata": {
        "id": "jo4dYqlACA0v"
      }
    },
    {
      "cell_type": "markdown",
      "source": [
        "# Part II Descriptive Analysis"
      ],
      "metadata": {
        "id": "x2bAFiZ2V4FU"
      }
    },
    {
      "cell_type": "markdown",
      "metadata": {
        "id": "SCc-flVEUhi_"
      },
      "source": [
        "### What is the weekly sales trend looks like?"
      ]
    },
    {
      "cell_type": "code",
      "source": [
        "df.set_index('InvoiceDate',inplace=True)"
      ],
      "metadata": {
        "id": "K8iooKeY24GL"
      },
      "execution_count": 30,
      "outputs": []
    },
    {
      "cell_type": "code",
      "source": [
        "weekly_sales = df.resample('W').sum()"
      ],
      "metadata": {
        "id": "RWsLYw9inPDl"
      },
      "execution_count": 31,
      "outputs": []
    },
    {
      "cell_type": "code",
      "source": [
        "weekly_sales.head()"
      ],
      "metadata": {
        "colab": {
          "base_uri": "https://localhost:8080/",
          "height": 238
        },
        "id": "L7FmfUDT7x6u",
        "outputId": "e375261b-9682-4390-88e8-3adb30183bd1"
      },
      "execution_count": 32,
      "outputs": [
        {
          "output_type": "execute_result",
          "data": {
            "text/html": [
              "\n",
              "  <div id=\"df-30fab7e0-60ee-4015-9356-cecf54f1ca4d\">\n",
              "    <div class=\"colab-df-container\">\n",
              "      <div>\n",
              "<style scoped>\n",
              "    .dataframe tbody tr th:only-of-type {\n",
              "        vertical-align: middle;\n",
              "    }\n",
              "\n",
              "    .dataframe tbody tr th {\n",
              "        vertical-align: top;\n",
              "    }\n",
              "\n",
              "    .dataframe thead th {\n",
              "        text-align: right;\n",
              "    }\n",
              "</style>\n",
              "<table border=\"1\" class=\"dataframe\">\n",
              "  <thead>\n",
              "    <tr style=\"text-align: right;\">\n",
              "      <th></th>\n",
              "      <th>Quantity</th>\n",
              "      <th>UnitPrice</th>\n",
              "      <th>sales</th>\n",
              "    </tr>\n",
              "    <tr>\n",
              "      <th>InvoiceDate</th>\n",
              "      <th></th>\n",
              "      <th></th>\n",
              "      <th></th>\n",
              "    </tr>\n",
              "  </thead>\n",
              "  <tbody>\n",
              "    <tr>\n",
              "      <th>2010-12-05</th>\n",
              "      <td>79563</td>\n",
              "      <td>35172.39</td>\n",
              "      <td>177809.65</td>\n",
              "    </tr>\n",
              "    <tr>\n",
              "      <th>2010-12-12</th>\n",
              "      <td>119138</td>\n",
              "      <td>65285.21</td>\n",
              "      <td>297190.87</td>\n",
              "    </tr>\n",
              "    <tr>\n",
              "      <th>2010-12-19</th>\n",
              "      <td>104474</td>\n",
              "      <td>44462.14</td>\n",
              "      <td>201178.15</td>\n",
              "    </tr>\n",
              "    <tr>\n",
              "      <th>2010-12-26</th>\n",
              "      <td>38309</td>\n",
              "      <td>21343.49</td>\n",
              "      <td>84753.69</td>\n",
              "    </tr>\n",
              "    <tr>\n",
              "      <th>2011-01-02</th>\n",
              "      <td>0</td>\n",
              "      <td>0.0</td>\n",
              "      <td>0.0</td>\n",
              "    </tr>\n",
              "  </tbody>\n",
              "</table>\n",
              "</div>\n",
              "      <button class=\"colab-df-convert\" onclick=\"convertToInteractive('df-30fab7e0-60ee-4015-9356-cecf54f1ca4d')\"\n",
              "              title=\"Convert this dataframe to an interactive table.\"\n",
              "              style=\"display:none;\">\n",
              "        \n",
              "  <svg xmlns=\"http://www.w3.org/2000/svg\" height=\"24px\"viewBox=\"0 0 24 24\"\n",
              "       width=\"24px\">\n",
              "    <path d=\"M0 0h24v24H0V0z\" fill=\"none\"/>\n",
              "    <path d=\"M18.56 5.44l.94 2.06.94-2.06 2.06-.94-2.06-.94-.94-2.06-.94 2.06-2.06.94zm-11 1L8.5 8.5l.94-2.06 2.06-.94-2.06-.94L8.5 2.5l-.94 2.06-2.06.94zm10 10l.94 2.06.94-2.06 2.06-.94-2.06-.94-.94-2.06-.94 2.06-2.06.94z\"/><path d=\"M17.41 7.96l-1.37-1.37c-.4-.4-.92-.59-1.43-.59-.52 0-1.04.2-1.43.59L10.3 9.45l-7.72 7.72c-.78.78-.78 2.05 0 2.83L4 21.41c.39.39.9.59 1.41.59.51 0 1.02-.2 1.41-.59l7.78-7.78 2.81-2.81c.8-.78.8-2.07 0-2.86zM5.41 20L4 18.59l7.72-7.72 1.47 1.35L5.41 20z\"/>\n",
              "  </svg>\n",
              "      </button>\n",
              "      \n",
              "  <style>\n",
              "    .colab-df-container {\n",
              "      display:flex;\n",
              "      flex-wrap:wrap;\n",
              "      gap: 12px;\n",
              "    }\n",
              "\n",
              "    .colab-df-convert {\n",
              "      background-color: #E8F0FE;\n",
              "      border: none;\n",
              "      border-radius: 50%;\n",
              "      cursor: pointer;\n",
              "      display: none;\n",
              "      fill: #1967D2;\n",
              "      height: 32px;\n",
              "      padding: 0 0 0 0;\n",
              "      width: 32px;\n",
              "    }\n",
              "\n",
              "    .colab-df-convert:hover {\n",
              "      background-color: #E2EBFA;\n",
              "      box-shadow: 0px 1px 2px rgba(60, 64, 67, 0.3), 0px 1px 3px 1px rgba(60, 64, 67, 0.15);\n",
              "      fill: #174EA6;\n",
              "    }\n",
              "\n",
              "    [theme=dark] .colab-df-convert {\n",
              "      background-color: #3B4455;\n",
              "      fill: #D2E3FC;\n",
              "    }\n",
              "\n",
              "    [theme=dark] .colab-df-convert:hover {\n",
              "      background-color: #434B5C;\n",
              "      box-shadow: 0px 1px 3px 1px rgba(0, 0, 0, 0.15);\n",
              "      filter: drop-shadow(0px 1px 2px rgba(0, 0, 0, 0.3));\n",
              "      fill: #FFFFFF;\n",
              "    }\n",
              "  </style>\n",
              "\n",
              "      <script>\n",
              "        const buttonEl =\n",
              "          document.querySelector('#df-30fab7e0-60ee-4015-9356-cecf54f1ca4d button.colab-df-convert');\n",
              "        buttonEl.style.display =\n",
              "          google.colab.kernel.accessAllowed ? 'block' : 'none';\n",
              "\n",
              "        async function convertToInteractive(key) {\n",
              "          const element = document.querySelector('#df-30fab7e0-60ee-4015-9356-cecf54f1ca4d');\n",
              "          const dataTable =\n",
              "            await google.colab.kernel.invokeFunction('convertToInteractive',\n",
              "                                                     [key], {});\n",
              "          if (!dataTable) return;\n",
              "\n",
              "          const docLinkHtml = 'Like what you see? Visit the ' +\n",
              "            '<a target=\"_blank\" href=https://colab.research.google.com/notebooks/data_table.ipynb>data table notebook</a>'\n",
              "            + ' to learn more about interactive tables.';\n",
              "          element.innerHTML = '';\n",
              "          dataTable['output_type'] = 'display_data';\n",
              "          await google.colab.output.renderOutput(dataTable, element);\n",
              "          const docLink = document.createElement('div');\n",
              "          docLink.innerHTML = docLinkHtml;\n",
              "          element.appendChild(docLink);\n",
              "        }\n",
              "      </script>\n",
              "    </div>\n",
              "  </div>\n",
              "  "
            ],
            "text/plain": [
              "             Quantity  UnitPrice      sales\n",
              "InvoiceDate                                \n",
              "2010-12-05      79563   35172.39  177809.65\n",
              "2010-12-12     119138   65285.21  297190.87\n",
              "2010-12-19     104474   44462.14  201178.15\n",
              "2010-12-26      38309   21343.49   84753.69\n",
              "2011-01-02          0        0.0        0.0"
            ]
          },
          "metadata": {},
          "execution_count": 32
        }
      ]
    },
    {
      "cell_type": "code",
      "metadata": {
        "colab": {
          "base_uri": "https://localhost:8080/",
          "height": 463
        },
        "id": "5kCEitqz9nRT",
        "outputId": "f4da64c8-ba09-46cd-fb6f-cf8c13de3552"
      },
      "source": [
        "import matplotlib.pyplot as plt\n",
        "plt.figure(figsize=(15,6))\n",
        "sns.set()\n",
        "sns.lineplot(x=weekly_sales.index, y='sales', data=weekly_sales)\n",
        "\n",
        "plt.xlabel('Week')\n",
        "plt.ylabel('Weekly Sales')\n",
        "plt.title('Weekly Retail Sales', loc='left')\n",
        "plt.xticks(ticks=weekly_sales.index, rotation=90)\n",
        "plt.show()"
      ],
      "execution_count": 33,
      "outputs": [
        {
          "output_type": "display_data",
          "data": {
            "image/png": "[encoded data removed]",
            "text/plain": [
              "<Figure size 1080x432 with 1 Axes>"
            ]
          },
          "metadata": {
            "needs_background": "light"
          }
        }
      ]
    },
    {
      "cell_type": "markdown",
      "source": [
        "We can see from the above graph that w:eekly sales are trending up"
      ],
      "metadata": {
        "id": "WMd3IE8Q6Tg4"
      }
    },
    {
      "cell_type": "markdown",
      "metadata": {
        "id": "rFuX-HbgUgMy"
      },
      "source": [
        "### How many days are without sale transactions?\n",
        "\n",
        "\n"
      ]
    },
    {
      "cell_type": "code",
      "metadata": {
        "colab": {
          "base_uri": "https://localhost:8080/"
        },
        "id": "mLf0FKdgUZwi",
        "outputId": "88f38cf0-bc38-4ef0-916a-e74db70d6a06"
      },
      "source": [
        "daily_sales = df.resample('D').sum()\n",
        "\n",
        "zero_sales = daily_sales[daily_sales.sales == 0]\n",
        "print(zero_sales.count())"
      ],
      "execution_count": 34,
      "outputs": [
        {
          "output_type": "stream",
          "name": "stdout",
          "text": [
            "Quantity     69\n",
            "UnitPrice    69\n",
            "sales        69\n",
            "dtype: int64\n"
          ]
        }
      ]
    },
    {
      "cell_type": "markdown",
      "metadata": {
        "id": "hJ8S8RcFfxYP"
      },
      "source": [
        "There are no sales for 69 days in the sampling period (54 weeks)"
      ]
    },
    {
      "cell_type": "markdown",
      "source": [
        "### What is the order value by month?"
      ],
      "metadata": {
        "id": "0rMxb0pRDm4X"
      }
    },
    {
      "cell_type": "code",
      "source": [
        "# we have used resampling earlier, here we use a different approach\n",
        "sales_by_month = df.groupby(pd.Grouper(freq='M')).agg({\n",
        "    'sales':'sum'}\n",
        ")"
      ],
      "metadata": {
        "id": "vECKsSdLDmRp"
      },
      "execution_count": 35,
      "outputs": []
    },
    {
      "cell_type": "code",
      "source": [
        "plt.figure(figsize=(15,6))\n",
        "sns.set()\n",
        "\n",
        "sns.lineplot(x=sales_by_month.index[:-1], y=sales_by_month.sales[:-1])\n",
        "\n",
        "plt.xlabel('Month')\n",
        "plt.ylabel('Monthly Sales')\n",
        "plt.title('Monthly Total Sales', loc='center')\n",
        "plt.xticks(ticks=sales_by_month.index, rotation=45)\n",
        "plt.show()"
      ],
      "metadata": {
        "colab": {
          "base_uri": "https://localhost:8080/",
          "height": 452
        },
        "id": "et3UHI3YEeI_",
        "outputId": "27a4945b-8212-4cb0-b3b8-c1efbd1000db"
      },
      "execution_count": 36,
      "outputs": [
        {
          "output_type": "display_data",
          "data": {
            "image/png": "[encoded data removed]",
            "text/plain": [
              "<Figure size 1080x432 with 1 Axes>"
            ]
          },
          "metadata": {}
        }
      ]
    },
    {
      "cell_type": "markdown",
      "source": [
        "Monthly sales are flat until August, 2011 - then started moving up"
      ],
      "metadata": {
        "id": "cODHuNhI622z"
      }
    },
    {
      "cell_type": "markdown",
      "source": [
        "### What are the top 10 countries by sales?"
      ],
      "metadata": {
        "id": "w8T16VJS6rY2"
      }
    },
    {
      "cell_type": "code",
      "source": [
        "sales_by_country = df.groupby(by='Country')[['sales']] \\\n",
        "                        .agg({'sales':'sum'}) \\\n",
        "                        .reset_index() \\\n",
        "                        .sort_values(by='sales', ascending=False).head(10)\n",
        "\n",
        "plt.figure(figsize=(15,6))\n",
        "sns.set()\n",
        "sns.barplot(x='Country', y='sales', data=sales_by_country)\n",
        "\n",
        "plt.xlabel('Country')\n",
        "plt.ylabel('Total Sales')\n",
        "plt.title('Top 10 countries by sales', loc='center')\n",
        "plt.show()"
      ],
      "metadata": {
        "colab": {
          "base_uri": "https://localhost:8080/",
          "height": 410
        },
        "id": "obM3f64v6xcQ",
        "outputId": "4edd7d5d-008f-4ca2-fabd-885daa384e6b"
      },
      "execution_count": 37,
      "outputs": [
        {
          "output_type": "display_data",
          "data": {
            "image/png": "[encoded data removed]",
            "text/plain": [
              "<Figure size 1080x432 with 1 Axes>"
            ]
          },
          "metadata": {}
        }
      ]
    },
    {
      "cell_type": "markdown",
      "source": [
        "United Kingdom is the largest driver of sales geographically"
      ],
      "metadata": {
        "id": "ihYsVnnW7ELa"
      }
    },
    {
      "cell_type": "markdown",
      "source": [
        "### What is my revenue breakdown by product?"
      ],
      "metadata": {
        "id": "GI23e18EK7EK"
      }
    },
    {
      "cell_type": "code",
      "source": [
        "sales_by_product = df.groupby(['StockCode','Description'])['sales'] \\\n",
        "                        .sum()\\\n",
        "                        .reset_index()\\\n",
        "                        .sort_values(by='sales', ascending=False).head(10)"
      ],
      "metadata": {
        "id": "K-MTCJxyK-QP"
      },
      "execution_count": 38,
      "outputs": []
    },
    {
      "cell_type": "code",
      "source": [
        "plt.figure(figsize=(15,6))\n",
        "sns.set()\n",
        "sns.barplot(x='Description', y='sales', data=sales_by_product)\n",
        "\n",
        "plt.xlabel('Product')\n",
        "plt.ylabel('Total Sales')\n",
        "plt.title('Top 10 Products by Revenue', loc='center')\n",
        "plt.xticks(rotation=45)\n",
        "plt.show()"
      ],
      "metadata": {
        "colab": {
          "base_uri": "https://localhost:8080/",
          "height": 568
        },
        "id": "4-BMMR95LQ0_",
        "outputId": "15e30264-ab80-44dc-c539-4be009626b0e"
      },
      "execution_count": 39,
      "outputs": [
        {
          "output_type": "display_data",
          "data": {
            "image/png": "[encoded data removed]",
            "text/plain": [
              "<Figure size 1080x432 with 1 Axes>"
            ]
          },
          "metadata": {}
        }
      ]
    },
    {
      "cell_type": "code",
      "source": [
        "sales_by_product"
      ],
      "metadata": {
        "colab": {
          "base_uri": "https://localhost:8080/",
          "height": 363
        },
        "id": "bIH69_mWIRrN",
        "outputId": "f0be58c3-d3db-4f63-a782-4ff51a4b7912"
      },
      "execution_count": 40,
      "outputs": [
        {
          "output_type": "execute_result",
          "data": {
            "text/html": [
              "\n",
              "  <div id=\"df-ff4c0641-336b-47bf-97a2-dce9f194e022\">\n",
              "    <div class=\"colab-df-container\">\n",
              "      <div>\n",
              "<style scoped>\n",
              "    .dataframe tbody tr th:only-of-type {\n",
              "        vertical-align: middle;\n",
              "    }\n",
              "\n",
              "    .dataframe tbody tr th {\n",
              "        vertical-align: top;\n",
              "    }\n",
              "\n",
              "    .dataframe thead th {\n",
              "        text-align: right;\n",
              "    }\n",
              "</style>\n",
              "<table border=\"1\" class=\"dataframe\">\n",
              "  <thead>\n",
              "    <tr style=\"text-align: right;\">\n",
              "      <th></th>\n",
              "      <th>StockCode</th>\n",
              "      <th>Description</th>\n",
              "      <th>sales</th>\n",
              "    </tr>\n",
              "  </thead>\n",
              "  <tbody>\n",
              "    <tr>\n",
              "      <th>1262</th>\n",
              "      <td>22423</td>\n",
              "      <td>REGENCY CAKESTAND 3 TIER</td>\n",
              "      <td>164459.49</td>\n",
              "    </tr>\n",
              "    <tr>\n",
              "      <th>2669</th>\n",
              "      <td>47566</td>\n",
              "      <td>PARTY BUNTING</td>\n",
              "      <td>98243.88</td>\n",
              "    </tr>\n",
              "    <tr>\n",
              "      <th>3782</th>\n",
              "      <td>85123A</td>\n",
              "      <td>WHITE HANGING HEART T-LIGHT HOLDER</td>\n",
              "      <td>97659.94</td>\n",
              "    </tr>\n",
              "    <tr>\n",
              "      <th>3770</th>\n",
              "      <td>85099B</td>\n",
              "      <td>JUMBO BAG RED RETROSPOT</td>\n",
              "      <td>92175.79</td>\n",
              "    </tr>\n",
              "    <tr>\n",
              "      <th>4162</th>\n",
              "      <td>POST</td>\n",
              "      <td>POSTAGE</td>\n",
              "      <td>66710.24</td>\n",
              "    </tr>\n",
              "    <tr>\n",
              "      <th>1950</th>\n",
              "      <td>23084</td>\n",
              "      <td>RABBIT NIGHT LIGHT</td>\n",
              "      <td>66661.63</td>\n",
              "    </tr>\n",
              "    <tr>\n",
              "      <th>945</th>\n",
              "      <td>22086</td>\n",
              "      <td>PAPER CHAIN KIT 50'S CHRISTMAS</td>\n",
              "      <td>63715.24</td>\n",
              "    </tr>\n",
              "    <tr>\n",
              "      <th>2877</th>\n",
              "      <td>84879</td>\n",
              "      <td>ASSORTED COLOUR BIRD ORNAMENT</td>\n",
              "      <td>58792.42</td>\n",
              "    </tr>\n",
              "    <tr>\n",
              "      <th>2738</th>\n",
              "      <td>79321</td>\n",
              "      <td>CHILLI LIGHTS</td>\n",
              "      <td>53746.66</td>\n",
              "    </tr>\n",
              "    <tr>\n",
              "      <th>2206</th>\n",
              "      <td>23298</td>\n",
              "      <td>SPOTTY BUNTING</td>\n",
              "      <td>42030.67</td>\n",
              "    </tr>\n",
              "  </tbody>\n",
              "</table>\n",
              "</div>\n",
              "      <button class=\"colab-df-convert\" onclick=\"convertToInteractive('df-ff4c0641-336b-47bf-97a2-dce9f194e022')\"\n",
              "              title=\"Convert this dataframe to an interactive table.\"\n",
              "              style=\"display:none;\">\n",
              "        \n",
              "  <svg xmlns=\"http://www.w3.org/2000/svg\" height=\"24px\"viewBox=\"0 0 24 24\"\n",
              "       width=\"24px\">\n",
              "    <path d=\"M0 0h24v24H0V0z\" fill=\"none\"/>\n",
              "    <path d=\"M18.56 5.44l.94 2.06.94-2.06 2.06-.94-2.06-.94-.94-2.06-.94 2.06-2.06.94zm-11 1L8.5 8.5l.94-2.06 2.06-.94-2.06-.94L8.5 2.5l-.94 2.06-2.06.94zm10 10l.94 2.06.94-2.06 2.06-.94-2.06-.94-.94-2.06-.94 2.06-2.06.94z\"/><path d=\"M17.41 7.96l-1.37-1.37c-.4-.4-.92-.59-1.43-.59-.52 0-1.04.2-1.43.59L10.3 9.45l-7.72 7.72c-.78.78-.78 2.05 0 2.83L4 21.41c.39.39.9.59 1.41.59.51 0 1.02-.2 1.41-.59l7.78-7.78 2.81-2.81c.8-.78.8-2.07 0-2.86zM5.41 20L4 18.59l7.72-7.72 1.47 1.35L5.41 20z\"/>\n",
              "  </svg>\n",
              "      </button>\n",
              "      \n",
              "  <style>\n",
              "    .colab-df-container {\n",
              "      display:flex;\n",
              "      flex-wrap:wrap;\n",
              "      gap: 12px;\n",
              "    }\n",
              "\n",
              "    .colab-df-convert {\n",
              "      background-color: #E8F0FE;\n",
              "      border: none;\n",
              "      border-radius: 50%;\n",
              "      cursor: pointer;\n",
              "      display: none;\n",
              "      fill: #1967D2;\n",
              "      height: 32px;\n",
              "      padding: 0 0 0 0;\n",
              "      width: 32px;\n",
              "    }\n",
              "\n",
              "    .colab-df-convert:hover {\n",
              "      background-color: #E2EBFA;\n",
              "      box-shadow: 0px 1px 2px rgba(60, 64, 67, 0.3), 0px 1px 3px 1px rgba(60, 64, 67, 0.15);\n",
              "      fill: #174EA6;\n",
              "    }\n",
              "\n",
              "    [theme=dark] .colab-df-convert {\n",
              "      background-color: #3B4455;\n",
              "      fill: #D2E3FC;\n",
              "    }\n",
              "\n",
              "    [theme=dark] .colab-df-convert:hover {\n",
              "      background-color: #434B5C;\n",
              "      box-shadow: 0px 1px 3px 1px rgba(0, 0, 0, 0.15);\n",
              "      filter: drop-shadow(0px 1px 2px rgba(0, 0, 0, 0.3));\n",
              "      fill: #FFFFFF;\n",
              "    }\n",
              "  </style>\n",
              "\n",
              "      <script>\n",
              "        const buttonEl =\n",
              "          document.querySelector('#df-ff4c0641-336b-47bf-97a2-dce9f194e022 button.colab-df-convert');\n",
              "        buttonEl.style.display =\n",
              "          google.colab.kernel.accessAllowed ? 'block' : 'none';\n",
              "\n",
              "        async function convertToInteractive(key) {\n",
              "          const element = document.querySelector('#df-ff4c0641-336b-47bf-97a2-dce9f194e022');\n",
              "          const dataTable =\n",
              "            await google.colab.kernel.invokeFunction('convertToInteractive',\n",
              "                                                     [key], {});\n",
              "          if (!dataTable) return;\n",
              "\n",
              "          const docLinkHtml = 'Like what you see? Visit the ' +\n",
              "            '<a target=\"_blank\" href=https://colab.research.google.com/notebooks/data_table.ipynb>data table notebook</a>'\n",
              "            + ' to learn more about interactive tables.';\n",
              "          element.innerHTML = '';\n",
              "          dataTable['output_type'] = 'display_data';\n",
              "          await google.colab.output.renderOutput(dataTable, element);\n",
              "          const docLink = document.createElement('div');\n",
              "          docLink.innerHTML = docLinkHtml;\n",
              "          element.appendChild(docLink);\n",
              "        }\n",
              "      </script>\n",
              "    </div>\n",
              "  </div>\n",
              "  "
            ],
            "text/plain": [
              "     StockCode                         Description      sales\n",
              "1262     22423            REGENCY CAKESTAND 3 TIER  164459.49\n",
              "2669     47566                       PARTY BUNTING   98243.88\n",
              "3782    85123A  WHITE HANGING HEART T-LIGHT HOLDER   97659.94\n",
              "3770    85099B             JUMBO BAG RED RETROSPOT   92175.79\n",
              "4162      POST                             POSTAGE   66710.24\n",
              "1950     23084                  RABBIT NIGHT LIGHT   66661.63\n",
              "945      22086     PAPER CHAIN KIT 50'S CHRISTMAS    63715.24\n",
              "2877     84879       ASSORTED COLOUR BIRD ORNAMENT   58792.42\n",
              "2738     79321                       CHILLI LIGHTS   53746.66\n",
              "2206     23298                      SPOTTY BUNTING   42030.67"
            ]
          },
          "metadata": {},
          "execution_count": 40
        }
      ]
    },
    {
      "cell_type": "markdown",
      "source": [
        "Interestingly, while postage is not an actual product revenue collected from postage ranks 6th which is net amount after taking out shipping charges paid by retailer. Earlier we have removed the misc. revenue charges that are not associated with a custoemer."
      ],
      "metadata": {
        "id": "5UrslhdMUx9y"
      }
    },
    {
      "cell_type": "markdown",
      "source": [
        "#### Weekly Sales by Customer"
      ],
      "metadata": {
        "id": "4B2e6KVYAADD"
      }
    },
    {
      "cell_type": "markdown",
      "source": [
        "For doing sales by customer analysis - we would need to remove the sales transactions that are not associated with a customer. "
      ],
      "metadata": {
        "id": "HOzvbE5yKREx"
      }
    },
    {
      "cell_type": "code",
      "source": [
        "# create a new dataframe excluding transactions with a guests\n",
        "df_cust = df.loc[(df.CustomerID != '<NA>')]"
      ],
      "metadata": {
        "id": "ibHM5VrRKodb"
      },
      "execution_count": 43,
      "outputs": []
    },
    {
      "cell_type": "markdown",
      "source": [
        "For calculating average weekly sales by customer, we would need total sales and number of unique customer for that week. Simple mean aggregation would give incorrect result as count is used for calculating average sales."
      ],
      "metadata": {
        "id": "gC7c9sRj75YK"
      }
    },
    {
      "cell_type": "code",
      "source": [
        "\n",
        "avg_weekly_sales_cust = df_cust.groupby([pd.Grouper(freq='W')]).agg(\n",
        "    {\n",
        "        'CustomerID':'nunique',\n",
        "        'sales':'sum'\n",
        "    }\n",
        ")"
      ],
      "metadata": {
        "id": "hiXOUBjo1rPp"
      },
      "execution_count": 44,
      "outputs": []
    },
    {
      "cell_type": "code",
      "metadata": {
        "id": "9azJiApObwCM"
      },
      "source": [
        "avg_weekly_sales_cust.rename(columns={'CustomerID':'n_customers'}, inplace=True)\n",
        "\n",
        "avg_weekly_sales_cust = avg_weekly_sales_cust.assign(\n",
        "    avg_weekly_cust = lambda x: x.sales.div(x.n_customers)\n",
        ")\n"
      ],
      "execution_count": 45,
      "outputs": []
    },
    {
      "cell_type": "code",
      "source": [
        "avg_weekly_sales_cust.head()"
      ],
      "metadata": {
        "colab": {
          "base_uri": "https://localhost:8080/",
          "height": 238
        },
        "id": "tKML6D0yL91s",
        "outputId": "16dc922a-de8f-4e6d-da61-e8011478d48f"
      },
      "execution_count": 46,
      "outputs": [
        {
          "output_type": "execute_result",
          "data": {
            "text/html": [
              "\n",
              "  <div id=\"df-3593d025-d066-49ab-afe2-bcb1744e071f\">\n",
              "    <div class=\"colab-df-container\">\n",
              "      <div>\n",
              "<style scoped>\n",
              "    .dataframe tbody tr th:only-of-type {\n",
              "        vertical-align: middle;\n",
              "    }\n",
              "\n",
              "    .dataframe tbody tr th {\n",
              "        vertical-align: top;\n",
              "    }\n",
              "\n",
              "    .dataframe thead th {\n",
              "        text-align: right;\n",
              "    }\n",
              "</style>\n",
              "<table border=\"1\" class=\"dataframe\">\n",
              "  <thead>\n",
              "    <tr style=\"text-align: right;\">\n",
              "      <th></th>\n",
              "      <th>n_customers</th>\n",
              "      <th>sales</th>\n",
              "      <th>avg_weekly_cust</th>\n",
              "    </tr>\n",
              "    <tr>\n",
              "      <th>InvoiceDate</th>\n",
              "      <th></th>\n",
              "      <th></th>\n",
              "      <th></th>\n",
              "    </tr>\n",
              "  </thead>\n",
              "  <tbody>\n",
              "    <tr>\n",
              "      <th>2010-12-05</th>\n",
              "      <td>323</td>\n",
              "      <td>144706.89</td>\n",
              "      <td>448.008947</td>\n",
              "    </tr>\n",
              "    <tr>\n",
              "      <th>2010-12-12</th>\n",
              "      <td>446</td>\n",
              "      <td>207160.52</td>\n",
              "      <td>464.485471</td>\n",
              "    </tr>\n",
              "    <tr>\n",
              "      <th>2010-12-19</th>\n",
              "      <td>380</td>\n",
              "      <td>155558.09</td>\n",
              "      <td>409.363395</td>\n",
              "    </tr>\n",
              "    <tr>\n",
              "      <th>2010-12-26</th>\n",
              "      <td>121</td>\n",
              "      <td>43456.97</td>\n",
              "      <td>359.148512</td>\n",
              "    </tr>\n",
              "    <tr>\n",
              "      <th>2011-01-02</th>\n",
              "      <td>0</td>\n",
              "      <td>0.0</td>\n",
              "      <td>NaN</td>\n",
              "    </tr>\n",
              "  </tbody>\n",
              "</table>\n",
              "</div>\n",
              "      <button class=\"colab-df-convert\" onclick=\"convertToInteractive('df-3593d025-d066-49ab-afe2-bcb1744e071f')\"\n",
              "              title=\"Convert this dataframe to an interactive table.\"\n",
              "              style=\"display:none;\">\n",
              "        \n",
              "  <svg xmlns=\"http://www.w3.org/2000/svg\" height=\"24px\"viewBox=\"0 0 24 24\"\n",
              "       width=\"24px\">\n",
              "    <path d=\"M0 0h24v24H0V0z\" fill=\"none\"/>\n",
              "    <path d=\"M18.56 5.44l.94 2.06.94-2.06 2.06-.94-2.06-.94-.94-2.06-.94 2.06-2.06.94zm-11 1L8.5 8.5l.94-2.06 2.06-.94-2.06-.94L8.5 2.5l-.94 2.06-2.06.94zm10 10l.94 2.06.94-2.06 2.06-.94-2.06-.94-.94-2.06-.94 2.06-2.06.94z\"/><path d=\"M17.41 7.96l-1.37-1.37c-.4-.4-.92-.59-1.43-.59-.52 0-1.04.2-1.43.59L10.3 9.45l-7.72 7.72c-.78.78-.78 2.05 0 2.83L4 21.41c.39.39.9.59 1.41.59.51 0 1.02-.2 1.41-.59l7.78-7.78 2.81-2.81c.8-.78.8-2.07 0-2.86zM5.41 20L4 18.59l7.72-7.72 1.47 1.35L5.41 20z\"/>\n",
              "  </svg>\n",
              "      </button>\n",
              "      \n",
              "  <style>\n",
              "    .colab-df-container {\n",
              "      display:flex;\n",
              "      flex-wrap:wrap;\n",
              "      gap: 12px;\n",
              "    }\n",
              "\n",
              "    .colab-df-convert {\n",
              "      background-color: #E8F0FE;\n",
              "      border: none;\n",
              "      border-radius: 50%;\n",
              "      cursor: pointer;\n",
              "      display: none;\n",
              "      fill: #1967D2;\n",
              "      height: 32px;\n",
              "      padding: 0 0 0 0;\n",
              "      width: 32px;\n",
              "    }\n",
              "\n",
              "    .colab-df-convert:hover {\n",
              "      background-color: #E2EBFA;\n",
              "      box-shadow: 0px 1px 2px rgba(60, 64, 67, 0.3), 0px 1px 3px 1px rgba(60, 64, 67, 0.15);\n",
              "      fill: #174EA6;\n",
              "    }\n",
              "\n",
              "    [theme=dark] .colab-df-convert {\n",
              "      background-color: #3B4455;\n",
              "      fill: #D2E3FC;\n",
              "    }\n",
              "\n",
              "    [theme=dark] .colab-df-convert:hover {\n",
              "      background-color: #434B5C;\n",
              "      box-shadow: 0px 1px 3px 1px rgba(0, 0, 0, 0.15);\n",
              "      filter: drop-shadow(0px 1px 2px rgba(0, 0, 0, 0.3));\n",
              "      fill: #FFFFFF;\n",
              "    }\n",
              "  </style>\n",
              "\n",
              "      <script>\n",
              "        const buttonEl =\n",
              "          document.querySelector('#df-3593d025-d066-49ab-afe2-bcb1744e071f button.colab-df-convert');\n",
              "        buttonEl.style.display =\n",
              "          google.colab.kernel.accessAllowed ? 'block' : 'none';\n",
              "\n",
              "        async function convertToInteractive(key) {\n",
              "          const element = document.querySelector('#df-3593d025-d066-49ab-afe2-bcb1744e071f');\n",
              "          const dataTable =\n",
              "            await google.colab.kernel.invokeFunction('convertToInteractive',\n",
              "                                                     [key], {});\n",
              "          if (!dataTable) return;\n",
              "\n",
              "          const docLinkHtml = 'Like what you see? Visit the ' +\n",
              "            '<a target=\"_blank\" href=https://colab.research.google.com/notebooks/data_table.ipynb>data table notebook</a>'\n",
              "            + ' to learn more about interactive tables.';\n",
              "          element.innerHTML = '';\n",
              "          dataTable['output_type'] = 'display_data';\n",
              "          await google.colab.output.renderOutput(dataTable, element);\n",
              "          const docLink = document.createElement('div');\n",
              "          docLink.innerHTML = docLinkHtml;\n",
              "          element.appendChild(docLink);\n",
              "        }\n",
              "      </script>\n",
              "    </div>\n",
              "  </div>\n",
              "  "
            ],
            "text/plain": [
              "             n_customers      sales  avg_weekly_cust\n",
              "InvoiceDate                                         \n",
              "2010-12-05           323  144706.89       448.008947\n",
              "2010-12-12           446  207160.52       464.485471\n",
              "2010-12-19           380  155558.09       409.363395\n",
              "2010-12-26           121   43456.97       359.148512\n",
              "2011-01-02             0        0.0              NaN"
            ]
          },
          "metadata": {},
          "execution_count": 46
        }
      ]
    },
    {
      "cell_type": "code",
      "source": [
        "plt.figure(figsize=(15,6))\n",
        "sns.set()\n",
        "\n",
        "sns.lineplot(x=avg_weekly_sales_cust.index, y='avg_weekly_cust',\n",
        "             data=avg_weekly_sales_cust)\n",
        "plt.xlabel('Week')\n",
        "plt.ylabel('Average Sales')\n",
        "plt.title('Average Weekly Sales per Customer', loc='left')\n",
        "plt.xticks(ticks=avg_weekly_sales_cust.index, rotation=90)\n",
        "plt.show()"
      ],
      "metadata": {
        "id": "DBsoAKHB_Y_d",
        "colab": {
          "base_uri": "https://localhost:8080/",
          "height": 463
        },
        "outputId": "f6109d64-afea-4bb9-a0e7-37995b1f8868"
      },
      "execution_count": 47,
      "outputs": [
        {
          "output_type": "display_data",
          "data": {
            "image/png": "[encoded data removed]",
            "text/plain": [
              "<Figure size 1080x432 with 1 Axes>"
            ]
          },
          "metadata": {}
        }
      ]
    },
    {
      "cell_type": "markdown",
      "source": [
        "### Cohort Analysis\n",
        "Perform Cohort Analysis\n",
        "Cohort analysis is a type of behavior analysis to identify shared patterns of groups of users as opposed to individuals. This type of analysis by cohorts enables analyst to ask specific questions that leads to better product/service decisions to improve customer retention and increase revenue.\n",
        "\n",
        "The cohort analysis begins by identifying the joining date or first purchase date of the customer as basis creating a cohort of customers. "
      ],
      "metadata": {
        "id": "z-oqnsiKkXXA"
      }
    },
    {
      "cell_type": "code",
      "source": [
        "df_cust.head()"
      ],
      "metadata": {
        "colab": {
          "base_uri": "https://localhost:8080/",
          "height": 238
        },
        "id": "DOQpBZL-XAA6",
        "outputId": "f3c81f4a-2d39-439b-8622-351f8813ec3e"
      },
      "execution_count": 48,
      "outputs": [
        {
          "output_type": "execute_result",
          "data": {
            "text/html": [
              "\n",
              "  <div id=\"df-8956a84b-3818-47f6-a79f-646b74122f33\">\n",
              "    <div class=\"colab-df-container\">\n",
              "      <div>\n",
              "<style scoped>\n",
              "    .dataframe tbody tr th:only-of-type {\n",
              "        vertical-align: middle;\n",
              "    }\n",
              "\n",
              "    .dataframe tbody tr th {\n",
              "        vertical-align: top;\n",
              "    }\n",
              "\n",
              "    .dataframe thead th {\n",
              "        text-align: right;\n",
              "    }\n",
              "</style>\n",
              "<table border=\"1\" class=\"dataframe\">\n",
              "  <thead>\n",
              "    <tr style=\"text-align: right;\">\n",
              "      <th></th>\n",
              "      <th>InvoiceNo</th>\n",
              "      <th>StockCode</th>\n",
              "      <th>Description</th>\n",
              "      <th>Quantity</th>\n",
              "      <th>UnitPrice</th>\n",
              "      <th>CustomerID</th>\n",
              "      <th>Country</th>\n",
              "      <th>sales</th>\n",
              "    </tr>\n",
              "    <tr>\n",
              "      <th>InvoiceDate</th>\n",
              "      <th></th>\n",
              "      <th></th>\n",
              "      <th></th>\n",
              "      <th></th>\n",
              "      <th></th>\n",
              "      <th></th>\n",
              "      <th></th>\n",
              "      <th></th>\n",
              "    </tr>\n",
              "  </thead>\n",
              "  <tbody>\n",
              "    <tr>\n",
              "      <th>2010-12-01 08:26:00</th>\n",
              "      <td>536365</td>\n",
              "      <td>85123A</td>\n",
              "      <td>WHITE HANGING HEART T-LIGHT HOLDER</td>\n",
              "      <td>6</td>\n",
              "      <td>2.55</td>\n",
              "      <td>17850</td>\n",
              "      <td>United Kingdom</td>\n",
              "      <td>15.3</td>\n",
              "    </tr>\n",
              "    <tr>\n",
              "      <th>2010-12-01 08:26:00</th>\n",
              "      <td>536365</td>\n",
              "      <td>71053</td>\n",
              "      <td>WHITE METAL LANTERN</td>\n",
              "      <td>6</td>\n",
              "      <td>3.39</td>\n",
              "      <td>17850</td>\n",
              "      <td>United Kingdom</td>\n",
              "      <td>20.34</td>\n",
              "    </tr>\n",
              "    <tr>\n",
              "      <th>2010-12-01 08:26:00</th>\n",
              "      <td>536365</td>\n",
              "      <td>84406B</td>\n",
              "      <td>CREAM CUPID HEARTS COAT HANGER</td>\n",
              "      <td>8</td>\n",
              "      <td>2.75</td>\n",
              "      <td>17850</td>\n",
              "      <td>United Kingdom</td>\n",
              "      <td>22.0</td>\n",
              "    </tr>\n",
              "    <tr>\n",
              "      <th>2010-12-01 08:26:00</th>\n",
              "      <td>536365</td>\n",
              "      <td>84029G</td>\n",
              "      <td>KNITTED UNION FLAG HOT WATER BOTTLE</td>\n",
              "      <td>6</td>\n",
              "      <td>3.39</td>\n",
              "      <td>17850</td>\n",
              "      <td>United Kingdom</td>\n",
              "      <td>20.34</td>\n",
              "    </tr>\n",
              "    <tr>\n",
              "      <th>2010-12-01 08:26:00</th>\n",
              "      <td>536365</td>\n",
              "      <td>84029E</td>\n",
              "      <td>RED WOOLLY HOTTIE WHITE HEART.</td>\n",
              "      <td>6</td>\n",
              "      <td>3.39</td>\n",
              "      <td>17850</td>\n",
              "      <td>United Kingdom</td>\n",
              "      <td>20.34</td>\n",
              "    </tr>\n",
              "  </tbody>\n",
              "</table>\n",
              "</div>\n",
              "      <button class=\"colab-df-convert\" onclick=\"convertToInteractive('df-8956a84b-3818-47f6-a79f-646b74122f33')\"\n",
              "              title=\"Convert this dataframe to an interactive table.\"\n",
              "              style=\"display:none;\">\n",
              "        \n",
              "  <svg xmlns=\"http://www.w3.org/2000/svg\" height=\"24px\"viewBox=\"0 0 24 24\"\n",
              "       width=\"24px\">\n",
              "    <path d=\"M0 0h24v24H0V0z\" fill=\"none\"/>\n",
              "    <path d=\"M18.56 5.44l.94 2.06.94-2.06 2.06-.94-2.06-.94-.94-2.06-.94 2.06-2.06.94zm-11 1L8.5 8.5l.94-2.06 2.06-.94-2.06-.94L8.5 2.5l-.94 2.06-2.06.94zm10 10l.94 2.06.94-2.06 2.06-.94-2.06-.94-.94-2.06-.94 2.06-2.06.94z\"/><path d=\"M17.41 7.96l-1.37-1.37c-.4-.4-.92-.59-1.43-.59-.52 0-1.04.2-1.43.59L10.3 9.45l-7.72 7.72c-.78.78-.78 2.05 0 2.83L4 21.41c.39.39.9.59 1.41.59.51 0 1.02-.2 1.41-.59l7.78-7.78 2.81-2.81c.8-.78.8-2.07 0-2.86zM5.41 20L4 18.59l7.72-7.72 1.47 1.35L5.41 20z\"/>\n",
              "  </svg>\n",
              "      </button>\n",
              "      \n",
              "  <style>\n",
              "    .colab-df-container {\n",
              "      display:flex;\n",
              "      flex-wrap:wrap;\n",
              "      gap: 12px;\n",
              "    }\n",
              "\n",
              "    .colab-df-convert {\n",
              "      background-color: #E8F0FE;\n",
              "      border: none;\n",
              "      border-radius: 50%;\n",
              "      cursor: pointer;\n",
              "      display: none;\n",
              "      fill: #1967D2;\n",
              "      height: 32px;\n",
              "      padding: 0 0 0 0;\n",
              "      width: 32px;\n",
              "    }\n",
              "\n",
              "    .colab-df-convert:hover {\n",
              "      background-color: #E2EBFA;\n",
              "      box-shadow: 0px 1px 2px rgba(60, 64, 67, 0.3), 0px 1px 3px 1px rgba(60, 64, 67, 0.15);\n",
              "      fill: #174EA6;\n",
              "    }\n",
              "\n",
              "    [theme=dark] .colab-df-convert {\n",
              "      background-color: #3B4455;\n",
              "      fill: #D2E3FC;\n",
              "    }\n",
              "\n",
              "    [theme=dark] .colab-df-convert:hover {\n",
              "      background-color: #434B5C;\n",
              "      box-shadow: 0px 1px 3px 1px rgba(0, 0, 0, 0.15);\n",
              "      filter: drop-shadow(0px 1px 2px rgba(0, 0, 0, 0.3));\n",
              "      fill: #FFFFFF;\n",
              "    }\n",
              "  </style>\n",
              "\n",
              "      <script>\n",
              "        const buttonEl =\n",
              "          document.querySelector('#df-8956a84b-3818-47f6-a79f-646b74122f33 button.colab-df-convert');\n",
              "        buttonEl.style.display =\n",
              "          google.colab.kernel.accessAllowed ? 'block' : 'none';\n",
              "\n",
              "        async function convertToInteractive(key) {\n",
              "          const element = document.querySelector('#df-8956a84b-3818-47f6-a79f-646b74122f33');\n",
              "          const dataTable =\n",
              "            await google.colab.kernel.invokeFunction('convertToInteractive',\n",
              "                                                     [key], {});\n",
              "          if (!dataTable) return;\n",
              "\n",
              "          const docLinkHtml = 'Like what you see? Visit the ' +\n",
              "            '<a target=\"_blank\" href=https://colab.research.google.com/notebooks/data_table.ipynb>data table notebook</a>'\n",
              "            + ' to learn more about interactive tables.';\n",
              "          element.innerHTML = '';\n",
              "          dataTable['output_type'] = 'display_data';\n",
              "          await google.colab.output.renderOutput(dataTable, element);\n",
              "          const docLink = document.createElement('div');\n",
              "          docLink.innerHTML = docLinkHtml;\n",
              "          element.appendChild(docLink);\n",
              "        }\n",
              "      </script>\n",
              "    </div>\n",
              "  </div>\n",
              "  "
            ],
            "text/plain": [
              "                    InvoiceNo StockCode                          Description  \\\n",
              "InvoiceDate                                                                    \n",
              "2010-12-01 08:26:00    536365    85123A   WHITE HANGING HEART T-LIGHT HOLDER   \n",
              "2010-12-01 08:26:00    536365     71053                  WHITE METAL LANTERN   \n",
              "2010-12-01 08:26:00    536365    84406B       CREAM CUPID HEARTS COAT HANGER   \n",
              "2010-12-01 08:26:00    536365    84029G  KNITTED UNION FLAG HOT WATER BOTTLE   \n",
              "2010-12-01 08:26:00    536365    84029E       RED WOOLLY HOTTIE WHITE HEART.   \n",
              "\n",
              "                     Quantity  UnitPrice CustomerID         Country  sales  \n",
              "InvoiceDate                                                                 \n",
              "2010-12-01 08:26:00         6       2.55      17850  United Kingdom   15.3  \n",
              "2010-12-01 08:26:00         6       3.39      17850  United Kingdom  20.34  \n",
              "2010-12-01 08:26:00         8       2.75      17850  United Kingdom   22.0  \n",
              "2010-12-01 08:26:00         6       3.39      17850  United Kingdom  20.34  \n",
              "2010-12-01 08:26:00         6       3.39      17850  United Kingdom  20.34  "
            ]
          },
          "metadata": {},
          "execution_count": 48
        }
      ]
    },
    {
      "cell_type": "markdown",
      "source": [
        "To begin cohort analysis, we need to maninupate the invoice date column to get order month and identify the month in which each customer made first transaction. We use this info to group customers into cohorts based on the month of their first purchase event."
      ],
      "metadata": {
        "id": "H1XTG7d2DGbU"
      }
    },
    {
      "cell_type": "code",
      "source": [
        "df_cust.reset_index(inplace=True)\n",
        "df_cust = df_cust.assign(\n",
        "               order_month = lambda x: x.InvoiceDate.dt.to_period('M'),\n",
        "               cohort = df_cust.groupby(by='CustomerID')['InvoiceDate'] \\\n",
        "                          .transform('min').dt.to_period('M')\n",
        "      )"
      ],
      "metadata": {
        "id": "IIN7AVxkNey6"
      },
      "execution_count": 49,
      "outputs": []
    },
    {
      "cell_type": "code",
      "source": [
        "df_cust.head()"
      ],
      "metadata": {
        "colab": {
          "base_uri": "https://localhost:8080/",
          "height": 337
        },
        "id": "PTSz8xHz0_O4",
        "outputId": "957f6663-3eee-4644-919f-5d162aeeb5cd"
      },
      "execution_count": 50,
      "outputs": [
        {
          "output_type": "execute_result",
          "data": {
            "text/html": [
              "\n",
              "  <div id=\"df-52de2dc8-6872-4f21-bf1c-4a31926a921e\">\n",
              "    <div class=\"colab-df-container\">\n",
              "      <div>\n",
              "<style scoped>\n",
              "    .dataframe tbody tr th:only-of-type {\n",
              "        vertical-align: middle;\n",
              "    }\n",
              "\n",
              "    .dataframe tbody tr th {\n",
              "        vertical-align: top;\n",
              "    }\n",
              "\n",
              "    .dataframe thead th {\n",
              "        text-align: right;\n",
              "    }\n",
              "</style>\n",
              "<table border=\"1\" class=\"dataframe\">\n",
              "  <thead>\n",
              "    <tr style=\"text-align: right;\">\n",
              "      <th></th>\n",
              "      <th>InvoiceDate</th>\n",
              "      <th>InvoiceNo</th>\n",
              "      <th>StockCode</th>\n",
              "      <th>Description</th>\n",
              "      <th>Quantity</th>\n",
              "      <th>UnitPrice</th>\n",
              "      <th>CustomerID</th>\n",
              "      <th>Country</th>\n",
              "      <th>sales</th>\n",
              "      <th>order_month</th>\n",
              "      <th>cohort</th>\n",
              "    </tr>\n",
              "  </thead>\n",
              "  <tbody>\n",
              "    <tr>\n",
              "      <th>0</th>\n",
              "      <td>2010-12-01 08:26:00</td>\n",
              "      <td>536365</td>\n",
              "      <td>85123A</td>\n",
              "      <td>WHITE HANGING HEART T-LIGHT HOLDER</td>\n",
              "      <td>6</td>\n",
              "      <td>2.55</td>\n",
              "      <td>17850</td>\n",
              "      <td>United Kingdom</td>\n",
              "      <td>15.3</td>\n",
              "      <td>2010-12</td>\n",
              "      <td>2010-12</td>\n",
              "    </tr>\n",
              "    <tr>\n",
              "      <th>1</th>\n",
              "      <td>2010-12-01 08:26:00</td>\n",
              "      <td>536365</td>\n",
              "      <td>71053</td>\n",
              "      <td>WHITE METAL LANTERN</td>\n",
              "      <td>6</td>\n",
              "      <td>3.39</td>\n",
              "      <td>17850</td>\n",
              "      <td>United Kingdom</td>\n",
              "      <td>20.34</td>\n",
              "      <td>2010-12</td>\n",
              "      <td>2010-12</td>\n",
              "    </tr>\n",
              "    <tr>\n",
              "      <th>2</th>\n",
              "      <td>2010-12-01 08:26:00</td>\n",
              "      <td>536365</td>\n",
              "      <td>84406B</td>\n",
              "      <td>CREAM CUPID HEARTS COAT HANGER</td>\n",
              "      <td>8</td>\n",
              "      <td>2.75</td>\n",
              "      <td>17850</td>\n",
              "      <td>United Kingdom</td>\n",
              "      <td>22.0</td>\n",
              "      <td>2010-12</td>\n",
              "      <td>2010-12</td>\n",
              "    </tr>\n",
              "    <tr>\n",
              "      <th>3</th>\n",
              "      <td>2010-12-01 08:26:00</td>\n",
              "      <td>536365</td>\n",
              "      <td>84029G</td>\n",
              "      <td>KNITTED UNION FLAG HOT WATER BOTTLE</td>\n",
              "      <td>6</td>\n",
              "      <td>3.39</td>\n",
              "      <td>17850</td>\n",
              "      <td>United Kingdom</td>\n",
              "      <td>20.34</td>\n",
              "      <td>2010-12</td>\n",
              "      <td>2010-12</td>\n",
              "    </tr>\n",
              "    <tr>\n",
              "      <th>4</th>\n",
              "      <td>2010-12-01 08:26:00</td>\n",
              "      <td>536365</td>\n",
              "      <td>84029E</td>\n",
              "      <td>RED WOOLLY HOTTIE WHITE HEART.</td>\n",
              "      <td>6</td>\n",
              "      <td>3.39</td>\n",
              "      <td>17850</td>\n",
              "      <td>United Kingdom</td>\n",
              "      <td>20.34</td>\n",
              "      <td>2010-12</td>\n",
              "      <td>2010-12</td>\n",
              "    </tr>\n",
              "  </tbody>\n",
              "</table>\n",
              "</div>\n",
              "      <button class=\"colab-df-convert\" onclick=\"convertToInteractive('df-52de2dc8-6872-4f21-bf1c-4a31926a921e')\"\n",
              "              title=\"Convert this dataframe to an interactive table.\"\n",
              "              style=\"display:none;\">\n",
              "        \n",
              "  <svg xmlns=\"http://www.w3.org/2000/svg\" height=\"24px\"viewBox=\"0 0 24 24\"\n",
              "       width=\"24px\">\n",
              "    <path d=\"M0 0h24v24H0V0z\" fill=\"none\"/>\n",
              "    <path d=\"M18.56 5.44l.94 2.06.94-2.06 2.06-.94-2.06-.94-.94-2.06-.94 2.06-2.06.94zm-11 1L8.5 8.5l.94-2.06 2.06-.94-2.06-.94L8.5 2.5l-.94 2.06-2.06.94zm10 10l.94 2.06.94-2.06 2.06-.94-2.06-.94-.94-2.06-.94 2.06-2.06.94z\"/><path d=\"M17.41 7.96l-1.37-1.37c-.4-.4-.92-.59-1.43-.59-.52 0-1.04.2-1.43.59L10.3 9.45l-7.72 7.72c-.78.78-.78 2.05 0 2.83L4 21.41c.39.39.9.59 1.41.59.51 0 1.02-.2 1.41-.59l7.78-7.78 2.81-2.81c.8-.78.8-2.07 0-2.86zM5.41 20L4 18.59l7.72-7.72 1.47 1.35L5.41 20z\"/>\n",
              "  </svg>\n",
              "      </button>\n",
              "      \n",
              "  <style>\n",
              "    .colab-df-container {\n",
              "      display:flex;\n",
              "      flex-wrap:wrap;\n",
              "      gap: 12px;\n",
              "    }\n",
              "\n",
              "    .colab-df-convert {\n",
              "      background-color: #E8F0FE;\n",
              "      border: none;\n",
              "      border-radius: 50%;\n",
              "      cursor: pointer;\n",
              "      display: none;\n",
              "      fill: #1967D2;\n",
              "      height: 32px;\n",
              "      padding: 0 0 0 0;\n",
              "      width: 32px;\n",
              "    }\n",
              "\n",
              "    .colab-df-convert:hover {\n",
              "      background-color: #E2EBFA;\n",
              "      box-shadow: 0px 1px 2px rgba(60, 64, 67, 0.3), 0px 1px 3px 1px rgba(60, 64, 67, 0.15);\n",
              "      fill: #174EA6;\n",
              "    }\n",
              "\n",
              "    [theme=dark] .colab-df-convert {\n",
              "      background-color: #3B4455;\n",
              "      fill: #D2E3FC;\n",
              "    }\n",
              "\n",
              "    [theme=dark] .colab-df-convert:hover {\n",
              "      background-color: #434B5C;\n",
              "      box-shadow: 0px 1px 3px 1px rgba(0, 0, 0, 0.15);\n",
              "      filter: drop-shadow(0px 1px 2px rgba(0, 0, 0, 0.3));\n",
              "      fill: #FFFFFF;\n",
              "    }\n",
              "  </style>\n",
              "\n",
              "      <script>\n",
              "        const buttonEl =\n",
              "          document.querySelector('#df-52de2dc8-6872-4f21-bf1c-4a31926a921e button.colab-df-convert');\n",
              "        buttonEl.style.display =\n",
              "          google.colab.kernel.accessAllowed ? 'block' : 'none';\n",
              "\n",
              "        async function convertToInteractive(key) {\n",
              "          const element = document.querySelector('#df-52de2dc8-6872-4f21-bf1c-4a31926a921e');\n",
              "          const dataTable =\n",
              "            await google.colab.kernel.invokeFunction('convertToInteractive',\n",
              "                                                     [key], {});\n",
              "          if (!dataTable) return;\n",
              "\n",
              "          const docLinkHtml = 'Like what you see? Visit the ' +\n",
              "            '<a target=\"_blank\" href=https://colab.research.google.com/notebooks/data_table.ipynb>data table notebook</a>'\n",
              "            + ' to learn more about interactive tables.';\n",
              "          element.innerHTML = '';\n",
              "          dataTable['output_type'] = 'display_data';\n",
              "          await google.colab.output.renderOutput(dataTable, element);\n",
              "          const docLink = document.createElement('div');\n",
              "          docLink.innerHTML = docLinkHtml;\n",
              "          element.appendChild(docLink);\n",
              "        }\n",
              "      </script>\n",
              "    </div>\n",
              "  </div>\n",
              "  "
            ],
            "text/plain": [
              "          InvoiceDate InvoiceNo StockCode  \\\n",
              "0 2010-12-01 08:26:00    536365    85123A   \n",
              "1 2010-12-01 08:26:00    536365     71053   \n",
              "2 2010-12-01 08:26:00    536365    84406B   \n",
              "3 2010-12-01 08:26:00    536365    84029G   \n",
              "4 2010-12-01 08:26:00    536365    84029E   \n",
              "\n",
              "                           Description  Quantity  UnitPrice CustomerID  \\\n",
              "0   WHITE HANGING HEART T-LIGHT HOLDER         6       2.55      17850   \n",
              "1                  WHITE METAL LANTERN         6       3.39      17850   \n",
              "2       CREAM CUPID HEARTS COAT HANGER         8       2.75      17850   \n",
              "3  KNITTED UNION FLAG HOT WATER BOTTLE         6       3.39      17850   \n",
              "4       RED WOOLLY HOTTIE WHITE HEART.         6       3.39      17850   \n",
              "\n",
              "          Country  sales order_month   cohort  \n",
              "0  United Kingdom   15.3     2010-12  2010-12  \n",
              "1  United Kingdom  20.34     2010-12  2010-12  \n",
              "2  United Kingdom   22.0     2010-12  2010-12  \n",
              "3  United Kingdom  20.34     2010-12  2010-12  \n",
              "4  United Kingdom  20.34     2010-12  2010-12  "
            ]
          },
          "metadata": {},
          "execution_count": 50
        }
      ]
    },
    {
      "cell_type": "markdown",
      "source": [
        "Below we calculate the number of unique customers for a given order month and cohort"
      ],
      "metadata": {
        "id": "Q_PBYwAIERhM"
      }
    },
    {
      "cell_type": "code",
      "source": [
        "cohort = df_cust.groupby(by=['cohort','order_month'])\\\n",
        "           .agg(n_customers=('CustomerID', 'nunique'))\\\n",
        "           .reset_index()"
      ],
      "metadata": {
        "id": "WLdGteUA4gcZ"
      },
      "execution_count": 51,
      "outputs": []
    },
    {
      "cell_type": "markdown",
      "source": [
        "Calculate the period in months by subtracting cohort month from order month."
      ],
      "metadata": {
        "id": "i26r5KozEo8s"
      }
    },
    {
      "cell_type": "code",
      "source": [
        "cohort = cohort.assign(\n",
        "    period = lambda x: (x.order_month.dt.year - x.cohort.dt.year) * 12 + \n",
        "                       (x.order_month.dt.month - x.cohort.dt.month)\n",
        "                      )\n"
      ],
      "metadata": {
        "id": "0Jee2COX5d25"
      },
      "execution_count": 52,
      "outputs": []
    },
    {
      "cell_type": "code",
      "source": [
        "cohort_pt = cohort.pivot_table(values='n_customers', index='cohort', columns='period')"
      ],
      "metadata": {
        "id": "rta4P2dv7B7_"
      },
      "execution_count": 53,
      "outputs": []
    },
    {
      "cell_type": "markdown",
      "source": [
        "Calculate customer retention matrix by diving with cohort size in the first period."
      ],
      "metadata": {
        "id": "Je7r-YPqFLh8"
      }
    },
    {
      "cell_type": "code",
      "source": [
        "cohort_size = cohort_pt[0] # number of unique customers in the first month\n",
        "retention_matrix = cohort_pt.div(cohort_size, axis=0)\n",
        "retention_matrix"
      ],
      "metadata": {
        "colab": {
          "base_uri": "https://localhost:8080/",
          "height": 488
        },
        "id": "OCRKaz2vDb41",
        "outputId": "08a10de0-2bc5-4abf-8ab9-d8b7f2037cf3"
      },
      "execution_count": 54,
      "outputs": [
        {
          "output_type": "execute_result",
          "data": {
            "text/html": [
              "\n",
              "  <div id=\"df-0340fb9f-304d-4bc2-98e9-882cfffe3005\">\n",
              "    <div class=\"colab-df-container\">\n",
              "      <div>\n",
              "<style scoped>\n",
              "    .dataframe tbody tr th:only-of-type {\n",
              "        vertical-align: middle;\n",
              "    }\n",
              "\n",
              "    .dataframe tbody tr th {\n",
              "        vertical-align: top;\n",
              "    }\n",
              "\n",
              "    .dataframe thead th {\n",
              "        text-align: right;\n",
              "    }\n",
              "</style>\n",
              "<table border=\"1\" class=\"dataframe\">\n",
              "  <thead>\n",
              "    <tr style=\"text-align: right;\">\n",
              "      <th>period</th>\n",
              "      <th>0</th>\n",
              "      <th>1</th>\n",
              "      <th>2</th>\n",
              "      <th>3</th>\n",
              "      <th>4</th>\n",
              "      <th>5</th>\n",
              "      <th>6</th>\n",
              "      <th>7</th>\n",
              "      <th>8</th>\n",
              "      <th>9</th>\n",
              "      <th>10</th>\n",
              "      <th>11</th>\n",
              "      <th>12</th>\n",
              "    </tr>\n",
              "    <tr>\n",
              "      <th>cohort</th>\n",
              "      <th></th>\n",
              "      <th></th>\n",
              "      <th></th>\n",
              "      <th></th>\n",
              "      <th></th>\n",
              "      <th></th>\n",
              "      <th></th>\n",
              "      <th></th>\n",
              "      <th></th>\n",
              "      <th></th>\n",
              "      <th></th>\n",
              "      <th></th>\n",
              "      <th></th>\n",
              "    </tr>\n",
              "  </thead>\n",
              "  <tbody>\n",
              "    <tr>\n",
              "      <th>2010-12</th>\n",
              "      <td>1.0</td>\n",
              "      <td>0.380148</td>\n",
              "      <td>0.333685</td>\n",
              "      <td>0.384372</td>\n",
              "      <td>0.354805</td>\n",
              "      <td>0.395987</td>\n",
              "      <td>0.378036</td>\n",
              "      <td>0.351637</td>\n",
              "      <td>0.354805</td>\n",
              "      <td>0.391763</td>\n",
              "      <td>0.371700</td>\n",
              "      <td>0.497360</td>\n",
              "      <td>0.274551</td>\n",
              "    </tr>\n",
              "    <tr>\n",
              "      <th>2011-01</th>\n",
              "      <td>1.0</td>\n",
              "      <td>0.232779</td>\n",
              "      <td>0.282660</td>\n",
              "      <td>0.244656</td>\n",
              "      <td>0.327791</td>\n",
              "      <td>0.296912</td>\n",
              "      <td>0.258907</td>\n",
              "      <td>0.251781</td>\n",
              "      <td>0.308789</td>\n",
              "      <td>0.346793</td>\n",
              "      <td>0.368171</td>\n",
              "      <td>0.147268</td>\n",
              "      <td>NaN</td>\n",
              "    </tr>\n",
              "    <tr>\n",
              "      <th>2011-02</th>\n",
              "      <td>1.0</td>\n",
              "      <td>0.247368</td>\n",
              "      <td>0.189474</td>\n",
              "      <td>0.278947</td>\n",
              "      <td>0.268421</td>\n",
              "      <td>0.244737</td>\n",
              "      <td>0.252632</td>\n",
              "      <td>0.278947</td>\n",
              "      <td>0.255263</td>\n",
              "      <td>0.313158</td>\n",
              "      <td>0.092105</td>\n",
              "      <td>NaN</td>\n",
              "      <td>NaN</td>\n",
              "    </tr>\n",
              "    <tr>\n",
              "      <th>2011-03</th>\n",
              "      <td>1.0</td>\n",
              "      <td>0.177273</td>\n",
              "      <td>0.252273</td>\n",
              "      <td>0.218182</td>\n",
              "      <td>0.231818</td>\n",
              "      <td>0.177273</td>\n",
              "      <td>0.261364</td>\n",
              "      <td>0.236364</td>\n",
              "      <td>0.286364</td>\n",
              "      <td>0.088636</td>\n",
              "      <td>NaN</td>\n",
              "      <td>NaN</td>\n",
              "      <td>NaN</td>\n",
              "    </tr>\n",
              "    <tr>\n",
              "      <th>2011-04</th>\n",
              "      <td>1.0</td>\n",
              "      <td>0.224080</td>\n",
              "      <td>0.217391</td>\n",
              "      <td>0.207358</td>\n",
              "      <td>0.207358</td>\n",
              "      <td>0.237458</td>\n",
              "      <td>0.230769</td>\n",
              "      <td>0.260870</td>\n",
              "      <td>0.083612</td>\n",
              "      <td>NaN</td>\n",
              "      <td>NaN</td>\n",
              "      <td>NaN</td>\n",
              "      <td>NaN</td>\n",
              "    </tr>\n",
              "    <tr>\n",
              "      <th>2011-05</th>\n",
              "      <td>1.0</td>\n",
              "      <td>0.223827</td>\n",
              "      <td>0.173285</td>\n",
              "      <td>0.169675</td>\n",
              "      <td>0.216606</td>\n",
              "      <td>0.238267</td>\n",
              "      <td>0.267148</td>\n",
              "      <td>0.101083</td>\n",
              "      <td>NaN</td>\n",
              "      <td>NaN</td>\n",
              "      <td>NaN</td>\n",
              "      <td>NaN</td>\n",
              "      <td>NaN</td>\n",
              "    </tr>\n",
              "    <tr>\n",
              "      <th>2011-06</th>\n",
              "      <td>1.0</td>\n",
              "      <td>0.196581</td>\n",
              "      <td>0.188034</td>\n",
              "      <td>0.273504</td>\n",
              "      <td>0.243590</td>\n",
              "      <td>0.333333</td>\n",
              "      <td>0.102564</td>\n",
              "      <td>NaN</td>\n",
              "      <td>NaN</td>\n",
              "      <td>NaN</td>\n",
              "      <td>NaN</td>\n",
              "      <td>NaN</td>\n",
              "      <td>NaN</td>\n",
              "    </tr>\n",
              "    <tr>\n",
              "      <th>2011-07</th>\n",
              "      <td>1.0</td>\n",
              "      <td>0.200000</td>\n",
              "      <td>0.205263</td>\n",
              "      <td>0.226316</td>\n",
              "      <td>0.268421</td>\n",
              "      <td>0.115789</td>\n",
              "      <td>NaN</td>\n",
              "      <td>NaN</td>\n",
              "      <td>NaN</td>\n",
              "      <td>NaN</td>\n",
              "      <td>NaN</td>\n",
              "      <td>NaN</td>\n",
              "      <td>NaN</td>\n",
              "    </tr>\n",
              "    <tr>\n",
              "      <th>2011-08</th>\n",
              "      <td>1.0</td>\n",
              "      <td>0.233533</td>\n",
              "      <td>0.245509</td>\n",
              "      <td>0.239521</td>\n",
              "      <td>0.137725</td>\n",
              "      <td>NaN</td>\n",
              "      <td>NaN</td>\n",
              "      <td>NaN</td>\n",
              "      <td>NaN</td>\n",
              "      <td>NaN</td>\n",
              "      <td>NaN</td>\n",
              "      <td>NaN</td>\n",
              "      <td>NaN</td>\n",
              "    </tr>\n",
              "    <tr>\n",
              "      <th>2011-09</th>\n",
              "      <td>1.0</td>\n",
              "      <td>0.288136</td>\n",
              "      <td>0.322034</td>\n",
              "      <td>0.122034</td>\n",
              "      <td>NaN</td>\n",
              "      <td>NaN</td>\n",
              "      <td>NaN</td>\n",
              "      <td>NaN</td>\n",
              "      <td>NaN</td>\n",
              "      <td>NaN</td>\n",
              "      <td>NaN</td>\n",
              "      <td>NaN</td>\n",
              "      <td>NaN</td>\n",
              "    </tr>\n",
              "    <tr>\n",
              "      <th>2011-10</th>\n",
              "      <td>1.0</td>\n",
              "      <td>0.260745</td>\n",
              "      <td>0.131805</td>\n",
              "      <td>NaN</td>\n",
              "      <td>NaN</td>\n",
              "      <td>NaN</td>\n",
              "      <td>NaN</td>\n",
              "      <td>NaN</td>\n",
              "      <td>NaN</td>\n",
              "      <td>NaN</td>\n",
              "      <td>NaN</td>\n",
              "      <td>NaN</td>\n",
              "      <td>NaN</td>\n",
              "    </tr>\n",
              "    <tr>\n",
              "      <th>2011-11</th>\n",
              "      <td>1.0</td>\n",
              "      <td>0.131661</td>\n",
              "      <td>NaN</td>\n",
              "      <td>NaN</td>\n",
              "      <td>NaN</td>\n",
              "      <td>NaN</td>\n",
              "      <td>NaN</td>\n",
              "      <td>NaN</td>\n",
              "      <td>NaN</td>\n",
              "      <td>NaN</td>\n",
              "      <td>NaN</td>\n",
              "      <td>NaN</td>\n",
              "      <td>NaN</td>\n",
              "    </tr>\n",
              "    <tr>\n",
              "      <th>2011-12</th>\n",
              "      <td>1.0</td>\n",
              "      <td>NaN</td>\n",
              "      <td>NaN</td>\n",
              "      <td>NaN</td>\n",
              "      <td>NaN</td>\n",
              "      <td>NaN</td>\n",
              "      <td>NaN</td>\n",
              "      <td>NaN</td>\n",
              "      <td>NaN</td>\n",
              "      <td>NaN</td>\n",
              "      <td>NaN</td>\n",
              "      <td>NaN</td>\n",
              "      <td>NaN</td>\n",
              "    </tr>\n",
              "  </tbody>\n",
              "</table>\n",
              "</div>\n",
              "      <button class=\"colab-df-convert\" onclick=\"convertToInteractive('df-0340fb9f-304d-4bc2-98e9-882cfffe3005')\"\n",
              "              title=\"Convert this dataframe to an interactive table.\"\n",
              "              style=\"display:none;\">\n",
              "        \n",
              "  <svg xmlns=\"http://www.w3.org/2000/svg\" height=\"24px\"viewBox=\"0 0 24 24\"\n",
              "       width=\"24px\">\n",
              "    <path d=\"M0 0h24v24H0V0z\" fill=\"none\"/>\n",
              "    <path d=\"M18.56 5.44l.94 2.06.94-2.06 2.06-.94-2.06-.94-.94-2.06-.94 2.06-2.06.94zm-11 1L8.5 8.5l.94-2.06 2.06-.94-2.06-.94L8.5 2.5l-.94 2.06-2.06.94zm10 10l.94 2.06.94-2.06 2.06-.94-2.06-.94-.94-2.06-.94 2.06-2.06.94z\"/><path d=\"M17.41 7.96l-1.37-1.37c-.4-.4-.92-.59-1.43-.59-.52 0-1.04.2-1.43.59L10.3 9.45l-7.72 7.72c-.78.78-.78 2.05 0 2.83L4 21.41c.39.39.9.59 1.41.59.51 0 1.02-.2 1.41-.59l7.78-7.78 2.81-2.81c.8-.78.8-2.07 0-2.86zM5.41 20L4 18.59l7.72-7.72 1.47 1.35L5.41 20z\"/>\n",
              "  </svg>\n",
              "      </button>\n",
              "      \n",
              "  <style>\n",
              "    .colab-df-container {\n",
              "      display:flex;\n",
              "      flex-wrap:wrap;\n",
              "      gap: 12px;\n",
              "    }\n",
              "\n",
              "    .colab-df-convert {\n",
              "      background-color: #E8F0FE;\n",
              "      border: none;\n",
              "      border-radius: 50%;\n",
              "      cursor: pointer;\n",
              "      display: none;\n",
              "      fill: #1967D2;\n",
              "      height: 32px;\n",
              "      padding: 0 0 0 0;\n",
              "      width: 32px;\n",
              "    }\n",
              "\n",
              "    .colab-df-convert:hover {\n",
              "      background-color: #E2EBFA;\n",
              "      box-shadow: 0px 1px 2px rgba(60, 64, 67, 0.3), 0px 1px 3px 1px rgba(60, 64, 67, 0.15);\n",
              "      fill: #174EA6;\n",
              "    }\n",
              "\n",
              "    [theme=dark] .colab-df-convert {\n",
              "      background-color: #3B4455;\n",
              "      fill: #D2E3FC;\n",
              "    }\n",
              "\n",
              "    [theme=dark] .colab-df-convert:hover {\n",
              "      background-color: #434B5C;\n",
              "      box-shadow: 0px 1px 3px 1px rgba(0, 0, 0, 0.15);\n",
              "      filter: drop-shadow(0px 1px 2px rgba(0, 0, 0, 0.3));\n",
              "      fill: #FFFFFF;\n",
              "    }\n",
              "  </style>\n",
              "\n",
              "      <script>\n",
              "        const buttonEl =\n",
              "          document.querySelector('#df-0340fb9f-304d-4bc2-98e9-882cfffe3005 button.colab-df-convert');\n",
              "        buttonEl.style.display =\n",
              "          google.colab.kernel.accessAllowed ? 'block' : 'none';\n",
              "\n",
              "        async function convertToInteractive(key) {\n",
              "          const element = document.querySelector('#df-0340fb9f-304d-4bc2-98e9-882cfffe3005');\n",
              "          const dataTable =\n",
              "            await google.colab.kernel.invokeFunction('convertToInteractive',\n",
              "                                                     [key], {});\n",
              "          if (!dataTable) return;\n",
              "\n",
              "          const docLinkHtml = 'Like what you see? Visit the ' +\n",
              "            '<a target=\"_blank\" href=https://colab.research.google.com/notebooks/data_table.ipynb>data table notebook</a>'\n",
              "            + ' to learn more about interactive tables.';\n",
              "          element.innerHTML = '';\n",
              "          dataTable['output_type'] = 'display_data';\n",
              "          await google.colab.output.renderOutput(dataTable, element);\n",
              "          const docLink = document.createElement('div');\n",
              "          docLink.innerHTML = docLinkHtml;\n",
              "          element.appendChild(docLink);\n",
              "        }\n",
              "      </script>\n",
              "    </div>\n",
              "  </div>\n",
              "  "
            ],
            "text/plain": [
              "period    0         1         2         3         4         5         6   \\\n",
              "cohort                                                                     \n",
              "2010-12  1.0  0.380148  0.333685  0.384372  0.354805  0.395987  0.378036   \n",
              "2011-01  1.0  0.232779  0.282660  0.244656  0.327791  0.296912  0.258907   \n",
              "2011-02  1.0  0.247368  0.189474  0.278947  0.268421  0.244737  0.252632   \n",
              "2011-03  1.0  0.177273  0.252273  0.218182  0.231818  0.177273  0.261364   \n",
              "2011-04  1.0  0.224080  0.217391  0.207358  0.207358  0.237458  0.230769   \n",
              "2011-05  1.0  0.223827  0.173285  0.169675  0.216606  0.238267  0.267148   \n",
              "2011-06  1.0  0.196581  0.188034  0.273504  0.243590  0.333333  0.102564   \n",
              "2011-07  1.0  0.200000  0.205263  0.226316  0.268421  0.115789       NaN   \n",
              "2011-08  1.0  0.233533  0.245509  0.239521  0.137725       NaN       NaN   \n",
              "2011-09  1.0  0.288136  0.322034  0.122034       NaN       NaN       NaN   \n",
              "2011-10  1.0  0.260745  0.131805       NaN       NaN       NaN       NaN   \n",
              "2011-11  1.0  0.131661       NaN       NaN       NaN       NaN       NaN   \n",
              "2011-12  1.0       NaN       NaN       NaN       NaN       NaN       NaN   \n",
              "\n",
              "period         7         8         9         10        11        12  \n",
              "cohort                                                               \n",
              "2010-12  0.351637  0.354805  0.391763  0.371700  0.497360  0.274551  \n",
              "2011-01  0.251781  0.308789  0.346793  0.368171  0.147268       NaN  \n",
              "2011-02  0.278947  0.255263  0.313158  0.092105       NaN       NaN  \n",
              "2011-03  0.236364  0.286364  0.088636       NaN       NaN       NaN  \n",
              "2011-04  0.260870  0.083612       NaN       NaN       NaN       NaN  \n",
              "2011-05  0.101083       NaN       NaN       NaN       NaN       NaN  \n",
              "2011-06       NaN       NaN       NaN       NaN       NaN       NaN  \n",
              "2011-07       NaN       NaN       NaN       NaN       NaN       NaN  \n",
              "2011-08       NaN       NaN       NaN       NaN       NaN       NaN  \n",
              "2011-09       NaN       NaN       NaN       NaN       NaN       NaN  \n",
              "2011-10       NaN       NaN       NaN       NaN       NaN       NaN  \n",
              "2011-11       NaN       NaN       NaN       NaN       NaN       NaN  \n",
              "2011-12       NaN       NaN       NaN       NaN       NaN       NaN  "
            ]
          },
          "metadata": {},
          "execution_count": 54
        }
      ]
    },
    {
      "cell_type": "markdown",
      "source": [
        "Plotting retention matrix"
      ],
      "metadata": {
        "id": "kHZ3BgPpFbPs"
      }
    },
    {
      "cell_type": "code",
      "source": [
        "with sns.axes_style('white'):\n",
        "    fig, ax = plt.subplots(1, 2, figsize=(12, 7), sharey=True, gridspec_kw={'width_ratios': [1, 11]})\n",
        "    \n",
        "    # plotting retention rates\n",
        "    sns.heatmap(retention_matrix, \n",
        "                mask=retention_matrix.isnull(),\n",
        "                annot=True, \n",
        "                fmt = '.0%',\n",
        "                cmap='RdYlGn',\n",
        "                ax = ax[1])\n",
        "    \n",
        "    ax[1].set_title(\"Monthly Cohorts - Retention Rates\")\n",
        "    ax[1].set(xlabel = \"Period\",ylabel='')\n",
        "    \n",
        "    cohort_size = pd.DataFrame(cohort_pt[0]).rename(columns={0:'cohort_size'})\n",
        "    white_cmap = mcolors.ListedColormap(['white'])\n",
        "    \n",
        "    # plotting cohort size\n",
        "    sns.heatmap(cohort_size, \n",
        "                annot = True,\n",
        "                fmt = 'g',\n",
        "                cbar = False,\n",
        "                cmap = white_cmap,\n",
        "                ax = ax[0])\n",
        "    \n",
        "    fig.tight_layout()"
      ],
      "metadata": {
        "colab": {
          "base_uri": "https://localhost:8080/",
          "height": 509
        },
        "id": "BWRMWHBNB3E6",
        "outputId": "50a8c8d0-e8a9-410b-ac61-1ae90a8fbd7d"
      },
      "execution_count": 55,
      "outputs": [
        {
          "output_type": "display_data",
          "data": {
            "image/png": "[encoded data removed]",
            "text/plain": [
              "<Figure size 864x504 with 3 Axes>"
            ]
          },
          "metadata": {}
        }
      ]
    },
    {
      "cell_type": "markdown",
      "source": [
        "In the period 0 and down - we can see 38% retention rate for the Dec, 2020 cohort compared to 23% retention rate for the Jan, 2011 cohort. \n",
        "\n",
        "On the horizontal axis provides insight into life cycle of customers in the cohort. For the Dec, 2020 cohort, an average retention rate of 37% observed with the exception of 50% retention rate observed in period 11. \n",
        "\n",
        "Cohort retention rate matrix provides dynamic view of customer retention rates or churn rates on monthly basis. This helps to craft marketing plan and commonication strategies for the cohorts with lower retention rate in conjunction with customer life time value analysis."
      ],
      "metadata": {
        "id": "-Kq-oxqlXltz"
      }
    },
    {
      "cell_type": "markdown",
      "source": [
        "### Calculate retention rate"
      ],
      "metadata": {
        "id": "GNQYhHorbEuE"
      }
    },
    {
      "cell_type": "code",
      "source": [
        "retention_rate = retention_matrix.iloc[:,1:].mean().mean()\n",
        "print(\"Retention rate: {}%\".format(np.round(retention_rate * 100, 2)))  "
      ],
      "metadata": {
        "colab": {
          "base_uri": "https://localhost:8080/"
        },
        "id": "vOeT8YfDbHyv",
        "outputId": "348ae129-26e1-4736-8335-7bac52bca2be"
      },
      "execution_count": 56,
      "outputs": [
        {
          "output_type": "stream",
          "name": "stdout",
          "text": [
            "Retention rate: 26.0%\n"
          ]
        }
      ]
    },
    {
      "cell_type": "markdown",
      "source": [
        "### Calculate churn rate"
      ],
      "metadata": {
        "id": "24C5ERTtcfRN"
      }
    },
    {
      "cell_type": "code",
      "source": [
        "churn_matrix =  1 - retention_matrix\n",
        "churn_rate = churn_matrix.iloc[:,1:].mean().mean()\n",
        "print(\"Churn rate: {}%\".format(np.round(churn_rate * 100, 2)))  "
      ],
      "metadata": {
        "colab": {
          "base_uri": "https://localhost:8080/"
        },
        "id": "r91IWt61buB3",
        "outputId": "5fc991e6-4368-4205-91e1-bd0a1865bfa5"
      },
      "execution_count": 57,
      "outputs": [
        {
          "output_type": "stream",
          "name": "stdout",
          "text": [
            "Churn rate: 74.0%\n"
          ]
        }
      ]
    },
    {
      "cell_type": "markdown",
      "source": [
        "### Calculate Customer Life Time Value"
      ],
      "metadata": {
        "id": "vO8Np5RzdBpB"
      }
    },
    {
      "cell_type": "markdown",
      "source": [
        "Basic CLV Calculation"
      ],
      "metadata": {
        "id": "4FLWw12nK-KI"
      }
    },
    {
      "cell_type": "code",
      "source": [
        "# Basic LTV = avg monthly income * customer life cycle\n",
        "df_cust.set_index('InvoiceDate', inplace=True)\n",
        "avg_monthly_income = df_cust.groupby(by=['CustomerID', pd.Grouper(freq='M')])['sales'].sum().mean()\n",
        "life_cycle =  12\n",
        "\n",
        "basic_ltv = avg_monthly_income * life_cycle\n",
        "print(\"Basic CLV: {:.2f} USD\".format(basic_ltv))"
      ],
      "metadata": {
        "colab": {
          "base_uri": "https://localhost:8080/"
        },
        "id": "IUugnB5SK9gY",
        "outputId": "0352f86e-71e1-4fd1-fc3a-76a1564ba898"
      },
      "execution_count": 58,
      "outputs": [
        {
          "output_type": "stream",
          "name": "stdout",
          "text": [
            "Basic CLV: 7316.41 USD\n"
          ]
        }
      ]
    },
    {
      "cell_type": "markdown",
      "source": [
        "Traditional CLV Calculaton"
      ],
      "metadata": {
        "id": "9UIiCo47efjT"
      }
    },
    {
      "cell_type": "code",
      "source": [
        "# Traditional LTV = monthly revenue * retention rate / churn rate\n",
        "\n",
        "avg_monthly_income = df_cust.groupby(by=['CustomerID', pd.Grouper(freq='M')])['sales'].sum().mean()\n",
        "\n",
        "traditional_ltv =  avg_monthly_income * retention_rate/churn_rate\n",
        "\n",
        "print(\"Average Tradional CLV: {:.2f} USD at retention rate of {:.2f} %\".\\\n",
        "                              format(traditional_ltv, retention_rate*100))\n",
        "\n",
        "print(\"Monthly Average Revenue: {:.2f} USD\".format(avg_monthly_income))"
      ],
      "metadata": {
        "colab": {
          "base_uri": "https://localhost:8080/"
        },
        "id": "Sn5tvv00dka6",
        "outputId": "06175266-efb6-4b2e-9284-422cfcf51a96"
      },
      "execution_count": 59,
      "outputs": [
        {
          "output_type": "stream",
          "name": "stdout",
          "text": [
            "Average Tradional CLV: 214.24 USD at retention rate of 26.00 %\n",
            "Monthly Average Revenue: 609.70 USD\n"
          ]
        }
      ]
    },
    {
      "cell_type": "markdown",
      "source": [
        "Granular CLV Calculation"
      ],
      "metadata": {
        "id": "sCfM-aE8GyrP"
      }
    },
    {
      "cell_type": "code",
      "source": [
        "# Granular LTV = avg order value x avg order frequency x customer life cycle\n",
        "\n",
        "avg_order_value = df.groupby(['InvoiceNo'])['sales'].mean().mean()\n",
        "avg_order_frequency = df.groupby(['CustomerID', pd.Grouper(freq='M')])['InvoiceNo'].nunique().mean()\n",
        "life_cycle = 12\n",
        "\n",
        "granular_ltv = avg_order_value  * avg_order_frequency * life_cycle\n",
        "\n",
        "print(\"Average Granular CLV: {:.2f} USD\".format(granular_ltv))\n",
        "print(\"Monthly Average Order Value: {:.2f} USD\".format(avg_order_value))\n",
        "print(\"Monthly Average Order Frequency: {}\".format(avg_order_frequency))"
      ],
      "metadata": {
        "colab": {
          "base_uri": "https://localhost:8080/"
        },
        "id": "pg_bNqaPiDmo",
        "outputId": "60c4946f-a2c6-40c3-8b0e-61e471e8d55d"
      },
      "execution_count": 60,
      "outputs": [
        {
          "output_type": "stream",
          "name": "stdout",
          "text": [
            "Average Granular CLV: 693.55 USD\n",
            "Monthly Average Order Value: 33.84 USD\n",
            "Monthly Average Order Frequency: 1.7078949304686926\n"
          ]
        }
      ]
    },
    {
      "cell_type": "markdown",
      "source": [
        "# Rule-based clustering using RFM features"
      ],
      "metadata": {
        "id": "cbAvN3IaaqQR"
      }
    },
    {
      "cell_type": "code",
      "source": [
        "df_cust.head()"
      ],
      "metadata": {
        "colab": {
          "base_uri": "https://localhost:8080/",
          "height": 368
        },
        "id": "_pwK0JVDf0Jp",
        "outputId": "d256d456-a730-4777-b68e-272fe772a81f"
      },
      "execution_count": 61,
      "outputs": [
        {
          "output_type": "execute_result",
          "data": {
            "text/html": [
              "\n",
              "  <div id=\"df-6dbf015e-d306-493d-b42a-2f6a76987965\">\n",
              "    <div class=\"colab-df-container\">\n",
              "      <div>\n",
              "<style scoped>\n",
              "    .dataframe tbody tr th:only-of-type {\n",
              "        vertical-align: middle;\n",
              "    }\n",
              "\n",
              "    .dataframe tbody tr th {\n",
              "        vertical-align: top;\n",
              "    }\n",
              "\n",
              "    .dataframe thead th {\n",
              "        text-align: right;\n",
              "    }\n",
              "</style>\n",
              "<table border=\"1\" class=\"dataframe\">\n",
              "  <thead>\n",
              "    <tr style=\"text-align: right;\">\n",
              "      <th></th>\n",
              "      <th>InvoiceNo</th>\n",
              "      <th>StockCode</th>\n",
              "      <th>Description</th>\n",
              "      <th>Quantity</th>\n",
              "      <th>UnitPrice</th>\n",
              "      <th>CustomerID</th>\n",
              "      <th>Country</th>\n",
              "      <th>sales</th>\n",
              "      <th>order_month</th>\n",
              "      <th>cohort</th>\n",
              "    </tr>\n",
              "    <tr>\n",
              "      <th>InvoiceDate</th>\n",
              "      <th></th>\n",
              "      <th></th>\n",
              "      <th></th>\n",
              "      <th></th>\n",
              "      <th></th>\n",
              "      <th></th>\n",
              "      <th></th>\n",
              "      <th></th>\n",
              "      <th></th>\n",
              "      <th></th>\n",
              "    </tr>\n",
              "  </thead>\n",
              "  <tbody>\n",
              "    <tr>\n",
              "      <th>2010-12-01 08:26:00</th>\n",
              "      <td>536365</td>\n",
              "      <td>85123A</td>\n",
              "      <td>WHITE HANGING HEART T-LIGHT HOLDER</td>\n",
              "      <td>6</td>\n",
              "      <td>2.55</td>\n",
              "      <td>17850</td>\n",
              "      <td>United Kingdom</td>\n",
              "      <td>15.3</td>\n",
              "      <td>2010-12</td>\n",
              "      <td>2010-12</td>\n",
              "    </tr>\n",
              "    <tr>\n",
              "      <th>2010-12-01 08:26:00</th>\n",
              "      <td>536365</td>\n",
              "      <td>71053</td>\n",
              "      <td>WHITE METAL LANTERN</td>\n",
              "      <td>6</td>\n",
              "      <td>3.39</td>\n",
              "      <td>17850</td>\n",
              "      <td>United Kingdom</td>\n",
              "      <td>20.34</td>\n",
              "      <td>2010-12</td>\n",
              "      <td>2010-12</td>\n",
              "    </tr>\n",
              "    <tr>\n",
              "      <th>2010-12-01 08:26:00</th>\n",
              "      <td>536365</td>\n",
              "      <td>84406B</td>\n",
              "      <td>CREAM CUPID HEARTS COAT HANGER</td>\n",
              "      <td>8</td>\n",
              "      <td>2.75</td>\n",
              "      <td>17850</td>\n",
              "      <td>United Kingdom</td>\n",
              "      <td>22.0</td>\n",
              "      <td>2010-12</td>\n",
              "      <td>2010-12</td>\n",
              "    </tr>\n",
              "    <tr>\n",
              "      <th>2010-12-01 08:26:00</th>\n",
              "      <td>536365</td>\n",
              "      <td>84029G</td>\n",
              "      <td>KNITTED UNION FLAG HOT WATER BOTTLE</td>\n",
              "      <td>6</td>\n",
              "      <td>3.39</td>\n",
              "      <td>17850</td>\n",
              "      <td>United Kingdom</td>\n",
              "      <td>20.34</td>\n",
              "      <td>2010-12</td>\n",
              "      <td>2010-12</td>\n",
              "    </tr>\n",
              "    <tr>\n",
              "      <th>2010-12-01 08:26:00</th>\n",
              "      <td>536365</td>\n",
              "      <td>84029E</td>\n",
              "      <td>RED WOOLLY HOTTIE WHITE HEART.</td>\n",
              "      <td>6</td>\n",
              "      <td>3.39</td>\n",
              "      <td>17850</td>\n",
              "      <td>United Kingdom</td>\n",
              "      <td>20.34</td>\n",
              "      <td>2010-12</td>\n",
              "      <td>2010-12</td>\n",
              "    </tr>\n",
              "  </tbody>\n",
              "</table>\n",
              "</div>\n",
              "      <button class=\"colab-df-convert\" onclick=\"convertToInteractive('df-6dbf015e-d306-493d-b42a-2f6a76987965')\"\n",
              "              title=\"Convert this dataframe to an interactive table.\"\n",
              "              style=\"display:none;\">\n",
              "        \n",
              "  <svg xmlns=\"http://www.w3.org/2000/svg\" height=\"24px\"viewBox=\"0 0 24 24\"\n",
              "       width=\"24px\">\n",
              "    <path d=\"M0 0h24v24H0V0z\" fill=\"none\"/>\n",
              "    <path d=\"M18.56 5.44l.94 2.06.94-2.06 2.06-.94-2.06-.94-.94-2.06-.94 2.06-2.06.94zm-11 1L8.5 8.5l.94-2.06 2.06-.94-2.06-.94L8.5 2.5l-.94 2.06-2.06.94zm10 10l.94 2.06.94-2.06 2.06-.94-2.06-.94-.94-2.06-.94 2.06-2.06.94z\"/><path d=\"M17.41 7.96l-1.37-1.37c-.4-.4-.92-.59-1.43-.59-.52 0-1.04.2-1.43.59L10.3 9.45l-7.72 7.72c-.78.78-.78 2.05 0 2.83L4 21.41c.39.39.9.59 1.41.59.51 0 1.02-.2 1.41-.59l7.78-7.78 2.81-2.81c.8-.78.8-2.07 0-2.86zM5.41 20L4 18.59l7.72-7.72 1.47 1.35L5.41 20z\"/>\n",
              "  </svg>\n",
              "      </button>\n",
              "      \n",
              "  <style>\n",
              "    .colab-df-container {\n",
              "      display:flex;\n",
              "      flex-wrap:wrap;\n",
              "      gap: 12px;\n",
              "    }\n",
              "\n",
              "    .colab-df-convert {\n",
              "      background-color: #E8F0FE;\n",
              "      border: none;\n",
              "      border-radius: 50%;\n",
              "      cursor: pointer;\n",
              "      display: none;\n",
              "      fill: #1967D2;\n",
              "      height: 32px;\n",
              "      padding: 0 0 0 0;\n",
              "      width: 32px;\n",
              "    }\n",
              "\n",
              "    .colab-df-convert:hover {\n",
              "      background-color: #E2EBFA;\n",
              "      box-shadow: 0px 1px 2px rgba(60, 64, 67, 0.3), 0px 1px 3px 1px rgba(60, 64, 67, 0.15);\n",
              "      fill: #174EA6;\n",
              "    }\n",
              "\n",
              "    [theme=dark] .colab-df-convert {\n",
              "      background-color: #3B4455;\n",
              "      fill: #D2E3FC;\n",
              "    }\n",
              "\n",
              "    [theme=dark] .colab-df-convert:hover {\n",
              "      background-color: #434B5C;\n",
              "      box-shadow: 0px 1px 3px 1px rgba(0, 0, 0, 0.15);\n",
              "      filter: drop-shadow(0px 1px 2px rgba(0, 0, 0, 0.3));\n",
              "      fill: #FFFFFF;\n",
              "    }\n",
              "  </style>\n",
              "\n",
              "      <script>\n",
              "        const buttonEl =\n",
              "          document.querySelector('#df-6dbf015e-d306-493d-b42a-2f6a76987965 button.colab-df-convert');\n",
              "        buttonEl.style.display =\n",
              "          google.colab.kernel.accessAllowed ? 'block' : 'none';\n",
              "\n",
              "        async function convertToInteractive(key) {\n",
              "          const element = document.querySelector('#df-6dbf015e-d306-493d-b42a-2f6a76987965');\n",
              "          const dataTable =\n",
              "            await google.colab.kernel.invokeFunction('convertToInteractive',\n",
              "                                                     [key], {});\n",
              "          if (!dataTable) return;\n",
              "\n",
              "          const docLinkHtml = 'Like what you see? Visit the ' +\n",
              "            '<a target=\"_blank\" href=https://colab.research.google.com/notebooks/data_table.ipynb>data table notebook</a>'\n",
              "            + ' to learn more about interactive tables.';\n",
              "          element.innerHTML = '';\n",
              "          dataTable['output_type'] = 'display_data';\n",
              "          await google.colab.output.renderOutput(dataTable, element);\n",
              "          const docLink = document.createElement('div');\n",
              "          docLink.innerHTML = docLinkHtml;\n",
              "          element.appendChild(docLink);\n",
              "        }\n",
              "      </script>\n",
              "    </div>\n",
              "  </div>\n",
              "  "
            ],
            "text/plain": [
              "                    InvoiceNo StockCode                          Description  \\\n",
              "InvoiceDate                                                                    \n",
              "2010-12-01 08:26:00    536365    85123A   WHITE HANGING HEART T-LIGHT HOLDER   \n",
              "2010-12-01 08:26:00    536365     71053                  WHITE METAL LANTERN   \n",
              "2010-12-01 08:26:00    536365    84406B       CREAM CUPID HEARTS COAT HANGER   \n",
              "2010-12-01 08:26:00    536365    84029G  KNITTED UNION FLAG HOT WATER BOTTLE   \n",
              "2010-12-01 08:26:00    536365    84029E       RED WOOLLY HOTTIE WHITE HEART.   \n",
              "\n",
              "                     Quantity  UnitPrice CustomerID         Country  sales  \\\n",
              "InvoiceDate                                                                  \n",
              "2010-12-01 08:26:00         6       2.55      17850  United Kingdom   15.3   \n",
              "2010-12-01 08:26:00         6       3.39      17850  United Kingdom  20.34   \n",
              "2010-12-01 08:26:00         8       2.75      17850  United Kingdom   22.0   \n",
              "2010-12-01 08:26:00         6       3.39      17850  United Kingdom  20.34   \n",
              "2010-12-01 08:26:00         6       3.39      17850  United Kingdom  20.34   \n",
              "\n",
              "                    order_month   cohort  \n",
              "InvoiceDate                               \n",
              "2010-12-01 08:26:00     2010-12  2010-12  \n",
              "2010-12-01 08:26:00     2010-12  2010-12  \n",
              "2010-12-01 08:26:00     2010-12  2010-12  \n",
              "2010-12-01 08:26:00     2010-12  2010-12  \n",
              "2010-12-01 08:26:00     2010-12  2010-12  "
            ]
          },
          "metadata": {},
          "execution_count": 61
        }
      ]
    },
    {
      "cell_type": "code",
      "source": [
        "import datetime as dt\n",
        "latest_date = df_cust.index.max() + dt.timedelta(1)\n",
        "sales = df_cust.assign(recency = lambda x: x.index)\n",
        "\n",
        "sales.recency = sales.recency.dt.date\n",
        "\n",
        "features = sales.groupby(by='CustomerID').agg({\n",
        "                        'recency': lambda x: (latest_date - x.index.max()).days,\n",
        "                        'InvoiceNo': 'nunique',\n",
        "                        'sales': 'sum',\n",
        "                        'Quantity': ['mean','sum']\n",
        "                        }\n",
        "                       ).reset_index()\n",
        "\n",
        "features.columns = ['CustomerID','recency','frequency', 'monetary','quantity_avg','quantity_total']"
      ],
      "metadata": {
        "id": "905g_5GeaxpR"
      },
      "execution_count": 62,
      "outputs": []
    },
    {
      "cell_type": "code",
      "source": [
        "features = features.sort_values(by='recency', ascending=True)\n",
        "features.head()"
      ],
      "metadata": {
        "colab": {
          "base_uri": "https://localhost:8080/",
          "height": 206
        },
        "id": "68fpwbs5dPr-",
        "outputId": "aa1e795a-950e-4574-ad6a-719577de52c6"
      },
      "execution_count": 63,
      "outputs": [
        {
          "output_type": "execute_result",
          "data": {
            "text/html": [
              "\n",
              "  <div id=\"df-9dbab52b-13af-41fb-bcd2-8cbab53c49df\">\n",
              "    <div class=\"colab-df-container\">\n",
              "      <div>\n",
              "<style scoped>\n",
              "    .dataframe tbody tr th:only-of-type {\n",
              "        vertical-align: middle;\n",
              "    }\n",
              "\n",
              "    .dataframe tbody tr th {\n",
              "        vertical-align: top;\n",
              "    }\n",
              "\n",
              "    .dataframe thead th {\n",
              "        text-align: right;\n",
              "    }\n",
              "</style>\n",
              "<table border=\"1\" class=\"dataframe\">\n",
              "  <thead>\n",
              "    <tr style=\"text-align: right;\">\n",
              "      <th></th>\n",
              "      <th>CustomerID</th>\n",
              "      <th>recency</th>\n",
              "      <th>frequency</th>\n",
              "      <th>monetary</th>\n",
              "      <th>quantity_avg</th>\n",
              "      <th>quantity_total</th>\n",
              "    </tr>\n",
              "  </thead>\n",
              "  <tbody>\n",
              "    <tr>\n",
              "      <th>491</th>\n",
              "      <td>12985</td>\n",
              "      <td>1</td>\n",
              "      <td>2</td>\n",
              "      <td>1215.62</td>\n",
              "      <td>19.094595</td>\n",
              "      <td>1413</td>\n",
              "    </tr>\n",
              "    <tr>\n",
              "      <th>3680</th>\n",
              "      <td>17364</td>\n",
              "      <td>1</td>\n",
              "      <td>12</td>\n",
              "      <td>4437.23</td>\n",
              "      <td>6.530562</td>\n",
              "      <td>2671</td>\n",
              "    </tr>\n",
              "    <tr>\n",
              "      <th>3153</th>\n",
              "      <td>16626</td>\n",
              "      <td>1</td>\n",
              "      <td>20</td>\n",
              "      <td>4379.65</td>\n",
              "      <td>14.51087</td>\n",
              "      <td>2670</td>\n",
              "    </tr>\n",
              "    <tr>\n",
              "      <th>2090</th>\n",
              "      <td>15189</td>\n",
              "      <td>1</td>\n",
              "      <td>52</td>\n",
              "      <td>15802.14</td>\n",
              "      <td>26.23913</td>\n",
              "      <td>6035</td>\n",
              "    </tr>\n",
              "    <tr>\n",
              "      <th>936</th>\n",
              "      <td>13599</td>\n",
              "      <td>1</td>\n",
              "      <td>32</td>\n",
              "      <td>5026.85</td>\n",
              "      <td>12.326848</td>\n",
              "      <td>3168</td>\n",
              "    </tr>\n",
              "  </tbody>\n",
              "</table>\n",
              "</div>\n",
              "      <button class=\"colab-df-convert\" onclick=\"convertToInteractive('df-9dbab52b-13af-41fb-bcd2-8cbab53c49df')\"\n",
              "              title=\"Convert this dataframe to an interactive table.\"\n",
              "              style=\"display:none;\">\n",
              "        \n",
              "  <svg xmlns=\"http://www.w3.org/2000/svg\" height=\"24px\"viewBox=\"0 0 24 24\"\n",
              "       width=\"24px\">\n",
              "    <path d=\"M0 0h24v24H0V0z\" fill=\"none\"/>\n",
              "    <path d=\"M18.56 5.44l.94 2.06.94-2.06 2.06-.94-2.06-.94-.94-2.06-.94 2.06-2.06.94zm-11 1L8.5 8.5l.94-2.06 2.06-.94-2.06-.94L8.5 2.5l-.94 2.06-2.06.94zm10 10l.94 2.06.94-2.06 2.06-.94-2.06-.94-.94-2.06-.94 2.06-2.06.94z\"/><path d=\"M17.41 7.96l-1.37-1.37c-.4-.4-.92-.59-1.43-.59-.52 0-1.04.2-1.43.59L10.3 9.45l-7.72 7.72c-.78.78-.78 2.05 0 2.83L4 21.41c.39.39.9.59 1.41.59.51 0 1.02-.2 1.41-.59l7.78-7.78 2.81-2.81c.8-.78.8-2.07 0-2.86zM5.41 20L4 18.59l7.72-7.72 1.47 1.35L5.41 20z\"/>\n",
              "  </svg>\n",
              "      </button>\n",
              "      \n",
              "  <style>\n",
              "    .colab-df-container {\n",
              "      display:flex;\n",
              "      flex-wrap:wrap;\n",
              "      gap: 12px;\n",
              "    }\n",
              "\n",
              "    .colab-df-convert {\n",
              "      background-color: #E8F0FE;\n",
              "      border: none;\n",
              "      border-radius: 50%;\n",
              "      cursor: pointer;\n",
              "      display: none;\n",
              "      fill: #1967D2;\n",
              "      height: 32px;\n",
              "      padding: 0 0 0 0;\n",
              "      width: 32px;\n",
              "    }\n",
              "\n",
              "    .colab-df-convert:hover {\n",
              "      background-color: #E2EBFA;\n",
              "      box-shadow: 0px 1px 2px rgba(60, 64, 67, 0.3), 0px 1px 3px 1px rgba(60, 64, 67, 0.15);\n",
              "      fill: #174EA6;\n",
              "    }\n",
              "\n",
              "    [theme=dark] .colab-df-convert {\n",
              "      background-color: #3B4455;\n",
              "      fill: #D2E3FC;\n",
              "    }\n",
              "\n",
              "    [theme=dark] .colab-df-convert:hover {\n",
              "      background-color: #434B5C;\n",
              "      box-shadow: 0px 1px 3px 1px rgba(0, 0, 0, 0.15);\n",
              "      filter: drop-shadow(0px 1px 2px rgba(0, 0, 0, 0.3));\n",
              "      fill: #FFFFFF;\n",
              "    }\n",
              "  </style>\n",
              "\n",
              "      <script>\n",
              "        const buttonEl =\n",
              "          document.querySelector('#df-9dbab52b-13af-41fb-bcd2-8cbab53c49df button.colab-df-convert');\n",
              "        buttonEl.style.display =\n",
              "          google.colab.kernel.accessAllowed ? 'block' : 'none';\n",
              "\n",
              "        async function convertToInteractive(key) {\n",
              "          const element = document.querySelector('#df-9dbab52b-13af-41fb-bcd2-8cbab53c49df');\n",
              "          const dataTable =\n",
              "            await google.colab.kernel.invokeFunction('convertToInteractive',\n",
              "                                                     [key], {});\n",
              "          if (!dataTable) return;\n",
              "\n",
              "          const docLinkHtml = 'Like what you see? Visit the ' +\n",
              "            '<a target=\"_blank\" href=https://colab.research.google.com/notebooks/data_table.ipynb>data table notebook</a>'\n",
              "            + ' to learn more about interactive tables.';\n",
              "          element.innerHTML = '';\n",
              "          dataTable['output_type'] = 'display_data';\n",
              "          await google.colab.output.renderOutput(dataTable, element);\n",
              "          const docLink = document.createElement('div');\n",
              "          docLink.innerHTML = docLinkHtml;\n",
              "          element.appendChild(docLink);\n",
              "        }\n",
              "      </script>\n",
              "    </div>\n",
              "  </div>\n",
              "  "
            ],
            "text/plain": [
              "     CustomerID  recency  frequency  monetary  quantity_avg  quantity_total\n",
              "491       12985        1          2   1215.62     19.094595            1413\n",
              "3680      17364        1         12   4437.23      6.530562            2671\n",
              "3153      16626        1         20   4379.65      14.51087            2670\n",
              "2090      15189        1         52  15802.14      26.23913            6035\n",
              "936       13599        1         32   5026.85     12.326848            3168"
            ]
          },
          "metadata": {},
          "execution_count": 63
        }
      ]
    },
    {
      "cell_type": "code",
      "source": [
        "features.info()"
      ],
      "metadata": {
        "colab": {
          "base_uri": "https://localhost:8080/"
        },
        "id": "EaS-9sqLAdIS",
        "outputId": "2bcf4f45-e784-401c-a878-cac140718632"
      },
      "execution_count": 64,
      "outputs": [
        {
          "output_type": "stream",
          "name": "stdout",
          "text": [
            "<class 'pandas.core.frame.DataFrame'>\n",
            "Int64Index: 4358 entries, 491 to 1040\n",
            "Data columns (total 6 columns):\n",
            " #   Column          Non-Null Count  Dtype  \n",
            "---  ------          --------------  -----  \n",
            " 0   CustomerID      4358 non-null   object \n",
            " 1   recency         4358 non-null   int64  \n",
            " 2   frequency       4358 non-null   int64  \n",
            " 3   monetary        4358 non-null   Float64\n",
            " 4   quantity_avg    4358 non-null   Float64\n",
            " 5   quantity_total  4358 non-null   Int64  \n",
            "dtypes: Float64(2), Int64(1), int64(2), object(1)\n",
            "memory usage: 251.1+ KB\n"
          ]
        }
      ]
    },
    {
      "cell_type": "code",
      "source": [
        "\n",
        "features = features.assign(log_recency = lambda x: np.log(x.recency + 1),\n",
        "                           log_freq = lambda x: np.log(x.frequency + 1),\n",
        "                           log_monetary = lambda x: np.log(x.monetary + 1))"
      ],
      "metadata": {
        "colab": {
          "base_uri": "https://localhost:8080/"
        },
        "id": "SbbNI4D26jbN",
        "outputId": "036fb81a-dc7d-40ae-8010-297373a72db3"
      },
      "execution_count": 79,
      "outputs": [
        {
          "output_type": "stream",
          "name": "stderr",
          "text": [
            "/usr/local/lib/python3.7/dist-packages/pandas/core/arrays/numeric.py:203: RuntimeWarning: invalid value encountered in log\n",
            "  result = getattr(ufunc, method)(*inputs2, **kwargs)\n"
          ]
        }
      ]
    },
    {
      "cell_type": "code",
      "source": [
        "features.shape"
      ],
      "metadata": {
        "colab": {
          "base_uri": "https://localhost:8080/"
        },
        "id": "311yGEGJjnNB",
        "outputId": "f359100d-5b45-43b1-f05d-eba51d5fce71"
      },
      "execution_count": 80,
      "outputs": [
        {
          "output_type": "execute_result",
          "data": {
            "text/plain": [
              "(4358, 14)"
            ]
          },
          "metadata": {},
          "execution_count": 80
        }
      ]
    },
    {
      "cell_type": "code",
      "source": [
        "cols = ['recency','log_recency','frequency','log_freq','monetary','log_monetary']\n",
        "n_plots = len(cols)\n",
        "n_cols = 2\n",
        "n_rows = n_plots // n_cols\n",
        "\n",
        "fig, ax = plt.subplots(nrows=n_rows, ncols=n_cols, figsize=(6*n_cols, 3*n_rows), \n",
        "                       constrained_layout=True)\n",
        "\n",
        "for i, var in enumerate(cols):\n",
        "  row = i // n_cols\n",
        "  col = i % n_cols\n",
        "  sns.kdeplot(x=var, data=features, ax=ax[row][col])\n",
        "plt.show()"
      ],
      "metadata": {
        "colab": {
          "base_uri": "https://localhost:8080/",
          "height": 673
        },
        "id": "lWVGVW1NTbtb",
        "outputId": "14468bd6-41ca-417a-ebd4-71065e24a44b"
      },
      "execution_count": 81,
      "outputs": [
        {
          "output_type": "display_data",
          "data": {
            "image/png": "[encoded data removed]",
            "text/plain": [
              "<Figure size 864x648 with 6 Axes>"
            ]
          },
          "metadata": {}
        }
      ]
    },
    {
      "cell_type": "markdown",
      "source": [
        "The distribution of the RFM features are all right skewed. Applying log transformation only changed the monetary feature to gaussian. Interestigly recency changed to left skewed after log transform. "
      ],
      "metadata": {
        "id": "hjI4POFTf4Zq"
      }
    },
    {
      "cell_type": "code",
      "source": [
        "def rfm_ranks(df, var):\n",
        "  \"\"\" returns series with rank of selected variable\"\"\"\n",
        "  if var == 'recency':\n",
        "    return np.where(df[var].le(df[var].quantile(0.25)), 4,\n",
        "                         np.where(df[var].gt(df[var].quantile(0.25)) & df[var].le(df[var].quantile(0.5)), 3,\n",
        "                         np.where(df[var].gt(df[var].quantile(0.5)) & df[var].le(df[var].quantile(0.75)), 2, 1)))\n",
        "\n",
        "  elif var in ['frequency','monetary']:\n",
        "    return np.where(df[var].le(df[var].quantile(0.25)), 1,\n",
        "                         np.where(df[var].gt(df[var].quantile(0.25)) & df[var].le(df[var].quantile(0.5)), 2,\n",
        "                         np.where(df[var].gt(df[var].quantile(0.5)) & df[var].le(df[var].quantile(0.75)), 3, 4)))\n"
      ],
      "metadata": {
        "id": "IgJVeDd-MiZW"
      },
      "execution_count": 68,
      "outputs": []
    },
    {
      "cell_type": "code",
      "source": [
        "features['R'] = rfm_ranks(df=features, var='recency')\n",
        "features['F'] = rfm_ranks(df=features, var='frequency')\n",
        "features['M'] = rfm_ranks(df=features, var='monetary')"
      ],
      "metadata": {
        "id": "XnX6EnH0PLmb"
      },
      "execution_count": 69,
      "outputs": []
    },
    {
      "cell_type": "code",
      "source": [
        "features = features.assign(score = lambda x: (x.R + x.F + x.M)/3)"
      ],
      "metadata": {
        "id": "WxaTUtxqgFOK"
      },
      "execution_count": 70,
      "outputs": []
    },
    {
      "cell_type": "code",
      "source": [
        "membership = {1: 'Bronze',2:'Silver', 3: 'Gold', 4:'Platinum'}"
      ],
      "metadata": {
        "id": "2lwsceaRmoMA"
      },
      "execution_count": 71,
      "outputs": []
    },
    {
      "cell_type": "code",
      "source": [
        "features.score = features.score.astype(int)\n",
        "features = features.assign(member_type = features.score.map(membership))\n"
      ],
      "metadata": {
        "id": "kzecmHwZpAj2"
      },
      "execution_count": 72,
      "outputs": []
    },
    {
      "cell_type": "code",
      "source": [
        "features.groupby('member_type')[['recency','frequency','monetary','score']]\\\n",
        "        .agg('mean').sort_values(by='score',ascending=False)"
      ],
      "metadata": {
        "colab": {
          "base_uri": "https://localhost:8080/",
          "height": 206
        },
        "id": "XN--jiIWc0hU",
        "outputId": "387a0f1a-5268-40cf-bb81-65c6cfe2a720"
      },
      "execution_count": 78,
      "outputs": [
        {
          "output_type": "execute_result",
          "data": {
            "text/html": [
              "\n",
              "  <div id=\"df-959a139f-97e8-4b07-82b4-fc719ca5e0ff\">\n",
              "    <div class=\"colab-df-container\">\n",
              "      <div>\n",
              "<style scoped>\n",
              "    .dataframe tbody tr th:only-of-type {\n",
              "        vertical-align: middle;\n",
              "    }\n",
              "\n",
              "    .dataframe tbody tr th {\n",
              "        vertical-align: top;\n",
              "    }\n",
              "\n",
              "    .dataframe thead th {\n",
              "        text-align: right;\n",
              "    }\n",
              "</style>\n",
              "<table border=\"1\" class=\"dataframe\">\n",
              "  <thead>\n",
              "    <tr style=\"text-align: right;\">\n",
              "      <th></th>\n",
              "      <th>recency</th>\n",
              "      <th>frequency</th>\n",
              "      <th>monetary</th>\n",
              "      <th>score</th>\n",
              "    </tr>\n",
              "    <tr>\n",
              "      <th>member_type</th>\n",
              "      <th></th>\n",
              "      <th></th>\n",
              "      <th></th>\n",
              "      <th></th>\n",
              "    </tr>\n",
              "  </thead>\n",
              "  <tbody>\n",
              "    <tr>\n",
              "      <th>Platinum</th>\n",
              "      <td>6.821138</td>\n",
              "      <td>18.709350</td>\n",
              "      <td>8826.733313</td>\n",
              "      <td>4.0</td>\n",
              "    </tr>\n",
              "    <tr>\n",
              "      <th>Gold</th>\n",
              "      <td>32.594177</td>\n",
              "      <td>6.612375</td>\n",
              "      <td>2319.95516</td>\n",
              "      <td>3.0</td>\n",
              "    </tr>\n",
              "    <tr>\n",
              "      <th>Silver</th>\n",
              "      <td>71.361749</td>\n",
              "      <td>2.535211</td>\n",
              "      <td>758.337941</td>\n",
              "      <td>2.0</td>\n",
              "    </tr>\n",
              "    <tr>\n",
              "      <th>Bronze</th>\n",
              "      <td>188.409027</td>\n",
              "      <td>1.279267</td>\n",
              "      <td>256.0917</td>\n",
              "      <td>1.0</td>\n",
              "    </tr>\n",
              "  </tbody>\n",
              "</table>\n",
              "</div>\n",
              "      <button class=\"colab-df-convert\" onclick=\"convertToInteractive('df-959a139f-97e8-4b07-82b4-fc719ca5e0ff')\"\n",
              "              title=\"Convert this dataframe to an interactive table.\"\n",
              "              style=\"display:none;\">\n",
              "        \n",
              "  <svg xmlns=\"http://www.w3.org/2000/svg\" height=\"24px\"viewBox=\"0 0 24 24\"\n",
              "       width=\"24px\">\n",
              "    <path d=\"M0 0h24v24H0V0z\" fill=\"none\"/>\n",
              "    <path d=\"M18.56 5.44l.94 2.06.94-2.06 2.06-.94-2.06-.94-.94-2.06-.94 2.06-2.06.94zm-11 1L8.5 8.5l.94-2.06 2.06-.94-2.06-.94L8.5 2.5l-.94 2.06-2.06.94zm10 10l.94 2.06.94-2.06 2.06-.94-2.06-.94-.94-2.06-.94 2.06-2.06.94z\"/><path d=\"M17.41 7.96l-1.37-1.37c-.4-.4-.92-.59-1.43-.59-.52 0-1.04.2-1.43.59L10.3 9.45l-7.72 7.72c-.78.78-.78 2.05 0 2.83L4 21.41c.39.39.9.59 1.41.59.51 0 1.02-.2 1.41-.59l7.78-7.78 2.81-2.81c.8-.78.8-2.07 0-2.86zM5.41 20L4 18.59l7.72-7.72 1.47 1.35L5.41 20z\"/>\n",
              "  </svg>\n",
              "      </button>\n",
              "      \n",
              "  <style>\n",
              "    .colab-df-container {\n",
              "      display:flex;\n",
              "      flex-wrap:wrap;\n",
              "      gap: 12px;\n",
              "    }\n",
              "\n",
              "    .colab-df-convert {\n",
              "      background-color: #E8F0FE;\n",
              "      border: none;\n",
              "      border-radius: 50%;\n",
              "      cursor: pointer;\n",
              "      display: none;\n",
              "      fill: #1967D2;\n",
              "      height: 32px;\n",
              "      padding: 0 0 0 0;\n",
              "      width: 32px;\n",
              "    }\n",
              "\n",
              "    .colab-df-convert:hover {\n",
              "      background-color: #E2EBFA;\n",
              "      box-shadow: 0px 1px 2px rgba(60, 64, 67, 0.3), 0px 1px 3px 1px rgba(60, 64, 67, 0.15);\n",
              "      fill: #174EA6;\n",
              "    }\n",
              "\n",
              "    [theme=dark] .colab-df-convert {\n",
              "      background-color: #3B4455;\n",
              "      fill: #D2E3FC;\n",
              "    }\n",
              "\n",
              "    [theme=dark] .colab-df-convert:hover {\n",
              "      background-color: #434B5C;\n",
              "      box-shadow: 0px 1px 3px 1px rgba(0, 0, 0, 0.15);\n",
              "      filter: drop-shadow(0px 1px 2px rgba(0, 0, 0, 0.3));\n",
              "      fill: #FFFFFF;\n",
              "    }\n",
              "  </style>\n",
              "\n",
              "      <script>\n",
              "        const buttonEl =\n",
              "          document.querySelector('#df-959a139f-97e8-4b07-82b4-fc719ca5e0ff button.colab-df-convert');\n",
              "        buttonEl.style.display =\n",
              "          google.colab.kernel.accessAllowed ? 'block' : 'none';\n",
              "\n",
              "        async function convertToInteractive(key) {\n",
              "          const element = document.querySelector('#df-959a139f-97e8-4b07-82b4-fc719ca5e0ff');\n",
              "          const dataTable =\n",
              "            await google.colab.kernel.invokeFunction('convertToInteractive',\n",
              "                                                     [key], {});\n",
              "          if (!dataTable) return;\n",
              "\n",
              "          const docLinkHtml = 'Like what you see? Visit the ' +\n",
              "            '<a target=\"_blank\" href=https://colab.research.google.com/notebooks/data_table.ipynb>data table notebook</a>'\n",
              "            + ' to learn more about interactive tables.';\n",
              "          element.innerHTML = '';\n",
              "          dataTable['output_type'] = 'display_data';\n",
              "          await google.colab.output.renderOutput(dataTable, element);\n",
              "          const docLink = document.createElement('div');\n",
              "          docLink.innerHTML = docLinkHtml;\n",
              "          element.appendChild(docLink);\n",
              "        }\n",
              "      </script>\n",
              "    </div>\n",
              "  </div>\n",
              "  "
            ],
            "text/plain": [
              "                recency  frequency     monetary  score\n",
              "member_type                                           \n",
              "Platinum       6.821138  18.709350  8826.733313    4.0\n",
              "Gold          32.594177   6.612375   2319.95516    3.0\n",
              "Silver        71.361749   2.535211   758.337941    2.0\n",
              "Bronze       188.409027   1.279267     256.0917    1.0"
            ]
          },
          "metadata": {},
          "execution_count": 78
        }
      ]
    },
    {
      "cell_type": "markdown",
      "source": [
        "The RFM scoring methodology is a rule based technique that may be used to target the current customers based on the identified behavior patterns. \n",
        "\n",
        "<b>Platinum</b> customers are most recently bought (in the last 7 days) the products from the retailer and most frequent buyers and spent an average amount of 8.8K. These are the most loyal customers and can be targeted for future promotions of new product sales for brand promotion. \n",
        "\n",
        "<b>Gold</b> customers recently bought products in the last 30 days with 7 purchases and spent an average amount of 2.3K. \n",
        "These customers may be targeted for the upselling/cross selling opportunities and offer loyalty programs to get them into plantinum tier. \n",
        "\n",
        "<b>Silver</b> customers recently bought products in the last quarter with average 3 purchases with average purchase value of 760.\n",
        "These customers may be targeted by personalized messages, special offers, and product recommendations to re-engage these customers. \n",
        "\n",
        "<b>Bronze</b> these customers purchased 6 months ago and most likey churned, depending how business defines churn depends on product life they purchased. They may be targeted by sending relevant information with discount coupons, finding ways to get feedback on their purchases, experience with platform using survey to understand if there are any issues that can be addresed before losing them for good.  \n",
        "\n"
      ],
      "metadata": {
        "id": "rMA8UP7fddb9"
      }
    }
  ]
}